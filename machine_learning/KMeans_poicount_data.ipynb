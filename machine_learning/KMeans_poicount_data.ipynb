{
 "cells": [
  {
   "cell_type": "code",
   "execution_count": 1,
   "metadata": {},
   "outputs": [],
   "source": [
    "import pandas as pd\n",
    "import numpy as np\n",
    "import matplotlib.pyplot as plt\n",
    "import seaborn as sns\n",
    "from sklearn.cluster import KMeans\n",
    "from kneed import KneeLocator\n",
    "from sklearn.metrics import silhouette_score\n",
    "from sklearn.decomposition import PCA\n"
   ]
  },
  {
   "cell_type": "markdown",
   "metadata": {},
   "source": [
    "<font size=\"6\"> KMeans Initiation (by Stefanie) </font>"
   ]
  },
  {
   "cell_type": "code",
   "execution_count": 2,
   "metadata": {},
   "outputs": [
    {
     "data": {
      "text/html": [
       "<div>\n",
       "<style scoped>\n",
       "    .dataframe tbody tr th:only-of-type {\n",
       "        vertical-align: middle;\n",
       "    }\n",
       "\n",
       "    .dataframe tbody tr th {\n",
       "        vertical-align: top;\n",
       "    }\n",
       "\n",
       "    .dataframe thead th {\n",
       "        text-align: right;\n",
       "    }\n",
       "</style>\n",
       "<table border=\"1\" class=\"dataframe\">\n",
       "  <thead>\n",
       "    <tr style=\"text-align: right;\">\n",
       "      <th></th>\n",
       "      <th>route_id</th>\n",
       "      <th>route_linestring</th>\n",
       "      <th>num_of_waypoint</th>\n",
       "      <th>waypoint_longitude</th>\n",
       "      <th>waypoint_latitude</th>\n",
       "      <th>poi_lat_lgt</th>\n",
       "      <th>poi_longitude</th>\n",
       "      <th>poi_latitude</th>\n",
       "      <th>poi_category</th>\n",
       "      <th>poi_name</th>\n",
       "      <th>distance</th>\n",
       "    </tr>\n",
       "  </thead>\n",
       "  <tbody>\n",
       "    <tr>\n",
       "      <th>0</th>\n",
       "      <td>113043</td>\n",
       "      <td>LINESTRING (13.69072 52.45147, 13.69075 52.451...</td>\n",
       "      <td>133</td>\n",
       "      <td>13.67734</td>\n",
       "      <td>52.43849</td>\n",
       "      <td>POINT (13.6774745 52.4385208)</td>\n",
       "      <td>13.677475</td>\n",
       "      <td>52.438521</td>\n",
       "      <td>viewpoint</td>\n",
       "      <td>Müggeleck</td>\n",
       "      <td>0.000138</td>\n",
       "    </tr>\n",
       "    <tr>\n",
       "      <th>1</th>\n",
       "      <td>113043</td>\n",
       "      <td>LINESTRING (13.69072 52.45147, 13.69075 52.451...</td>\n",
       "      <td>282</td>\n",
       "      <td>13.62759</td>\n",
       "      <td>52.44386</td>\n",
       "      <td>POINT (13.6279051 52.444312)</td>\n",
       "      <td>13.627905</td>\n",
       "      <td>52.444312</td>\n",
       "      <td>bench</td>\n",
       "      <td>NaN</td>\n",
       "      <td>0.000551</td>\n",
       "    </tr>\n",
       "    <tr>\n",
       "      <th>2</th>\n",
       "      <td>113043</td>\n",
       "      <td>LINESTRING (13.69072 52.45147, 13.69075 52.451...</td>\n",
       "      <td>288</td>\n",
       "      <td>13.62704</td>\n",
       "      <td>52.44442</td>\n",
       "      <td>POINT (13.6271595 52.4444457)</td>\n",
       "      <td>13.627159</td>\n",
       "      <td>52.444446</td>\n",
       "      <td>bench</td>\n",
       "      <td>NaN</td>\n",
       "      <td>0.000122</td>\n",
       "    </tr>\n",
       "    <tr>\n",
       "      <th>3</th>\n",
       "      <td>113043</td>\n",
       "      <td>LINESTRING (13.69072 52.45147, 13.69075 52.451...</td>\n",
       "      <td>288</td>\n",
       "      <td>13.62704</td>\n",
       "      <td>52.44442</td>\n",
       "      <td>POINT (13.6269487 52.4444808)</td>\n",
       "      <td>13.626949</td>\n",
       "      <td>52.444481</td>\n",
       "      <td>bench</td>\n",
       "      <td>NaN</td>\n",
       "      <td>0.000110</td>\n",
       "    </tr>\n",
       "    <tr>\n",
       "      <th>4</th>\n",
       "      <td>113043</td>\n",
       "      <td>LINESTRING (13.69072 52.45147, 13.69075 52.451...</td>\n",
       "      <td>292</td>\n",
       "      <td>13.62716</td>\n",
       "      <td>52.44509</td>\n",
       "      <td>POINT (13.6273851 52.4453161)</td>\n",
       "      <td>13.627385</td>\n",
       "      <td>52.445316</td>\n",
       "      <td>bench</td>\n",
       "      <td>NaN</td>\n",
       "      <td>0.000319</td>\n",
       "    </tr>\n",
       "  </tbody>\n",
       "</table>\n",
       "</div>"
      ],
      "text/plain": [
       "   route_id                                   route_linestring  \\\n",
       "0    113043  LINESTRING (13.69072 52.45147, 13.69075 52.451...   \n",
       "1    113043  LINESTRING (13.69072 52.45147, 13.69075 52.451...   \n",
       "2    113043  LINESTRING (13.69072 52.45147, 13.69075 52.451...   \n",
       "3    113043  LINESTRING (13.69072 52.45147, 13.69075 52.451...   \n",
       "4    113043  LINESTRING (13.69072 52.45147, 13.69075 52.451...   \n",
       "\n",
       "   num_of_waypoint  waypoint_longitude  waypoint_latitude  \\\n",
       "0              133            13.67734           52.43849   \n",
       "1              282            13.62759           52.44386   \n",
       "2              288            13.62704           52.44442   \n",
       "3              288            13.62704           52.44442   \n",
       "4              292            13.62716           52.44509   \n",
       "\n",
       "                     poi_lat_lgt  poi_longitude  poi_latitude poi_category  \\\n",
       "0  POINT (13.6774745 52.4385208)      13.677475     52.438521    viewpoint   \n",
       "1   POINT (13.6279051 52.444312)      13.627905     52.444312        bench   \n",
       "2  POINT (13.6271595 52.4444457)      13.627159     52.444446        bench   \n",
       "3  POINT (13.6269487 52.4444808)      13.626949     52.444481        bench   \n",
       "4  POINT (13.6273851 52.4453161)      13.627385     52.445316        bench   \n",
       "\n",
       "    poi_name  distance  \n",
       "0  Müggeleck  0.000138  \n",
       "1        NaN  0.000551  \n",
       "2        NaN  0.000122  \n",
       "3        NaN  0.000110  \n",
       "4        NaN  0.000319  "
      ]
     },
     "execution_count": 2,
     "metadata": {},
     "output_type": "execute_result"
    }
   ],
   "source": [
    "# Just for inspecting (and not forgetting about some potentially useful features from) the whole joined dataset\n",
    "df_jointdata = pd.read_csv('joint_data.csv')\n",
    "df_jointdata.head()"
   ]
  },
  {
   "cell_type": "code",
   "execution_count": 3,
   "metadata": {},
   "outputs": [
    {
     "data": {
      "text/html": [
       "<div>\n",
       "<style scoped>\n",
       "    .dataframe tbody tr th:only-of-type {\n",
       "        vertical-align: middle;\n",
       "    }\n",
       "\n",
       "    .dataframe tbody tr th {\n",
       "        vertical-align: top;\n",
       "    }\n",
       "\n",
       "    .dataframe thead th {\n",
       "        text-align: right;\n",
       "    }\n",
       "</style>\n",
       "<table border=\"1\" class=\"dataframe\">\n",
       "  <thead>\n",
       "    <tr style=\"text-align: right;\">\n",
       "      <th></th>\n",
       "      <th>route_id</th>\n",
       "      <th>wp</th>\n",
       "      <th>poi</th>\n",
       "      <th>tree</th>\n",
       "      <th>bench</th>\n",
       "      <th>restaurant</th>\n",
       "      <th>cafe</th>\n",
       "      <th>atm</th>\n",
       "      <th>convenience</th>\n",
       "      <th>bar</th>\n",
       "      <th>ice_cream</th>\n",
       "      <th>picnic</th>\n",
       "      <th>viewpoint</th>\n",
       "      <th>gallery</th>\n",
       "      <th>museum</th>\n",
       "      <th>nightclub</th>\n",
       "      <th>drinking_water</th>\n",
       "      <th>historic</th>\n",
       "      <th>tourist_attraction</th>\n",
       "    </tr>\n",
       "  </thead>\n",
       "  <tbody>\n",
       "    <tr>\n",
       "      <th>0</th>\n",
       "      <td>3503503</td>\n",
       "      <td>8</td>\n",
       "      <td>14</td>\n",
       "      <td>14</td>\n",
       "      <td>0</td>\n",
       "      <td>0</td>\n",
       "      <td>0</td>\n",
       "      <td>0</td>\n",
       "      <td>0</td>\n",
       "      <td>0</td>\n",
       "      <td>0</td>\n",
       "      <td>0</td>\n",
       "      <td>0</td>\n",
       "      <td>0</td>\n",
       "      <td>0</td>\n",
       "      <td>0</td>\n",
       "      <td>0</td>\n",
       "      <td>0</td>\n",
       "      <td>0</td>\n",
       "    </tr>\n",
       "    <tr>\n",
       "      <th>1</th>\n",
       "      <td>2713522</td>\n",
       "      <td>8</td>\n",
       "      <td>2</td>\n",
       "      <td>0</td>\n",
       "      <td>2</td>\n",
       "      <td>0</td>\n",
       "      <td>0</td>\n",
       "      <td>0</td>\n",
       "      <td>0</td>\n",
       "      <td>0</td>\n",
       "      <td>0</td>\n",
       "      <td>0</td>\n",
       "      <td>0</td>\n",
       "      <td>0</td>\n",
       "      <td>0</td>\n",
       "      <td>0</td>\n",
       "      <td>0</td>\n",
       "      <td>0</td>\n",
       "      <td>0</td>\n",
       "    </tr>\n",
       "    <tr>\n",
       "      <th>2</th>\n",
       "      <td>3503504</td>\n",
       "      <td>8</td>\n",
       "      <td>9</td>\n",
       "      <td>9</td>\n",
       "      <td>0</td>\n",
       "      <td>0</td>\n",
       "      <td>0</td>\n",
       "      <td>0</td>\n",
       "      <td>0</td>\n",
       "      <td>0</td>\n",
       "      <td>0</td>\n",
       "      <td>0</td>\n",
       "      <td>0</td>\n",
       "      <td>0</td>\n",
       "      <td>0</td>\n",
       "      <td>0</td>\n",
       "      <td>0</td>\n",
       "      <td>0</td>\n",
       "      <td>0</td>\n",
       "    </tr>\n",
       "    <tr>\n",
       "      <th>3</th>\n",
       "      <td>3568200</td>\n",
       "      <td>8</td>\n",
       "      <td>18</td>\n",
       "      <td>18</td>\n",
       "      <td>0</td>\n",
       "      <td>0</td>\n",
       "      <td>0</td>\n",
       "      <td>0</td>\n",
       "      <td>0</td>\n",
       "      <td>0</td>\n",
       "      <td>0</td>\n",
       "      <td>0</td>\n",
       "      <td>0</td>\n",
       "      <td>0</td>\n",
       "      <td>0</td>\n",
       "      <td>0</td>\n",
       "      <td>0</td>\n",
       "      <td>0</td>\n",
       "      <td>0</td>\n",
       "    </tr>\n",
       "    <tr>\n",
       "      <th>4</th>\n",
       "      <td>3573326</td>\n",
       "      <td>9</td>\n",
       "      <td>2</td>\n",
       "      <td>0</td>\n",
       "      <td>0</td>\n",
       "      <td>2</td>\n",
       "      <td>0</td>\n",
       "      <td>0</td>\n",
       "      <td>0</td>\n",
       "      <td>0</td>\n",
       "      <td>0</td>\n",
       "      <td>0</td>\n",
       "      <td>0</td>\n",
       "      <td>0</td>\n",
       "      <td>0</td>\n",
       "      <td>0</td>\n",
       "      <td>0</td>\n",
       "      <td>0</td>\n",
       "      <td>0</td>\n",
       "    </tr>\n",
       "  </tbody>\n",
       "</table>\n",
       "</div>"
      ],
      "text/plain": [
       "   route_id  wp  poi  tree  bench  restaurant  cafe  atm  convenience  bar  \\\n",
       "0   3503503   8   14    14      0           0     0    0            0    0   \n",
       "1   2713522   8    2     0      2           0     0    0            0    0   \n",
       "2   3503504   8    9     9      0           0     0    0            0    0   \n",
       "3   3568200   8   18    18      0           0     0    0            0    0   \n",
       "4   3573326   9    2     0      0           2     0    0            0    0   \n",
       "\n",
       "   ice_cream  picnic  viewpoint  gallery  museum  nightclub  drinking_water  \\\n",
       "0          0       0          0        0       0          0               0   \n",
       "1          0       0          0        0       0          0               0   \n",
       "2          0       0          0        0       0          0               0   \n",
       "3          0       0          0        0       0          0               0   \n",
       "4          0       0          0        0       0          0               0   \n",
       "\n",
       "   historic  tourist_attraction  \n",
       "0         0                   0  \n",
       "1         0                   0  \n",
       "2         0                   0  \n",
       "3         0                   0  \n",
       "4         0                   0  "
      ]
     },
     "execution_count": 3,
     "metadata": {},
     "output_type": "execute_result"
    }
   ],
   "source": [
    "# Loading extracted poicount data and making it easy to work with\n",
    "df_poicount = pd.read_csv('category_count_per_route.csv')\n",
    "df_poicount.fillna(0, inplace = True) # replacing NaN values with 0s\n",
    "df_poicount = df_poicount.apply(np.int64)\n",
    "df_poicount.rename(columns={\"wp_count\": \"wp\", \"poi_count\": \"poi\", \"tree_count\": \"tree\", \"bench_count\": \"bench\", \"bench_count.1\": \"restaurant\", \"cafe_count\": \"cafe\", \"atm_count\": \"atm\", \"convenience_count\": \"convenience\", \"bar_count\": \"bar\", \"ice_cream_count\": \"ice_cream\", \"picnic_table_count\": \"picnic\", \"viewpoint_count\": \"viewpoint\", \"gallery_count\": \"gallery\", \"museum_count\": \"museum\", \"nightclub_count\": \"nightclub\", \"drinking_water_count\": \"drinking_water\", \"historic_count\": \"historic\", \"tourist_attraction_count\": \"tourist_attraction\"}, inplace=True)\n",
    "df_poicount.head()"
   ]
  },
  {
   "cell_type": "code",
   "execution_count": 4,
   "metadata": {},
   "outputs": [],
   "source": [
    "# Writing the easier to work with df in a new csv file\n",
    "df_poicount.to_csv(r'poicount.csv', index=False)"
   ]
  },
  {
   "cell_type": "code",
   "execution_count": 5,
   "metadata": {},
   "outputs": [
    {
     "name": "stdout",
     "output_type": "stream",
     "text": [
      "Trees make out by far the largest amount in our data. 79.83184053389533 % of our points of interest is trees.\n"
     ]
    }
   ],
   "source": [
    "# Calculating the percentage of the feature \"tree\"\n",
    "print('Trees make out by far the largest amount in our data.', df_poicount['tree'].sum()/df_poicount.iloc[:, 3:].sum().sum()*100, \"% of our points of interest is trees.\")"
   ]
  },
  {
   "cell_type": "code",
   "execution_count": 7,
   "metadata": {},
   "outputs": [
    {
     "data": {
      "text/plain": [
       "<AxesSubplot:>"
      ]
     },
     "execution_count": 7,
     "metadata": {},
     "output_type": "execute_result"
    },
    {
     "data": {
      "image/png": "[encoded data removed]",
      "text/plain": [
       "<Figure size 1080x720 with 2 Axes>"
      ]
     },
     "metadata": {
      "needs_background": "light"
     },
     "output_type": "display_data"
    }
   ],
   "source": [
    "# Getting correlations for all the points of interest (poi)\n",
    "correlations = df_poicount.iloc[:, 3:].corr()\n",
    "f,ax=plt.subplots(figsize=(15,10))\n",
    "sns.heatmap(correlations,annot=True)"
   ]
  },
  {
   "cell_type": "markdown",
   "metadata": {},
   "source": [
    "Over the thumb summary: \n",
    "\n",
    "We can see that restaurants, cafes, convenience shops, atms, bars, ice cream shops, galleries, and trees often come along (meaning being on the same route) with each other. It can be suspected that these togeter will form a cluster. (Sometimes, there's also nightclubs and drinking water on these routes.)\n",
    "\n",
    "Viewpoints and picnic tables don't correlate with most of the other features, not even with each other, which is surprising. But sometimes they come along with benches, which make sense. \n",
    "\n",
    "Trees, surprisingly, don't seem to join the nature routes that often, but tend to be on those routes with shops and cafes. \n",
    "\n",
    "Tourist attractions and historic sides don't show a clear correlation and seem to be scattered among the other categories (we only have small amounts of those in our dataset though). \n",
    "\n",
    "Nightclubs seem to go best with bars, cafes and atms, but no clear correlation here."
   ]
  },
  {
   "cell_type": "code",
   "execution_count": 15,
   "metadata": {},
   "outputs": [
    {
     "name": "stdout",
     "output_type": "stream",
     "text": [
      "Since this notebook is suppused to log a process, we for now go with the unstandardised data and see what happens:\n"
     ]
    }
   ],
   "source": [
    "# Reading poicount data in as numpy arrays\n",
    "poicount = np.genfromtxt('poicount.csv', delimiter=\",\", usecols=range(3, 19), skip_header=1)\n",
    "\n",
    "print(\"Since this notebook is suppused to log a process, we for now go with the unstandardised data and see what happens:\")"
   ]
  },
  {
   "cell_type": "markdown",
   "metadata": {},
   "source": [
    "Elbow method for finding the best k for kMeans"
   ]
  },
  {
   "cell_type": "code",
   "execution_count": 16,
   "metadata": {},
   "outputs": [
    {
     "data": {
      "text/plain": [
       "[43656285.76744186,\n",
       " 15578526.253332185,\n",
       " 7194192.91662691,\n",
       " 5607922.786596571,\n",
       " 2735574.8748075585,\n",
       " 1970453.7813721495,\n",
       " 1703122.2214129784,\n",
       " 1570020.9677248397,\n",
       " 1515145.6020301513,\n",
       " 993752.8941334155]"
      ]
     },
     "execution_count": 16,
     "metadata": {},
     "output_type": "execute_result"
    }
   ],
   "source": [
    "# Increasing k by 1 with every step and store the SSE in a list\n",
    "kmeans_kwargs = {\"init\": \"random\", \"n_init\": 50, \"max_iter\": 500}\n",
    "\n",
    "# Writing the SSE values for each k into a list\n",
    "sse = []\n",
    "for k in range(1, 11):\n",
    "    kmeans = KMeans(n_clusters=k, **kmeans_kwargs)\n",
    "    kmeans.fit(poicount)\n",
    "    sse.append(kmeans.inertia_)\n",
    "sse"
   ]
  },
  {
   "cell_type": "code",
   "execution_count": 17,
   "metadata": {},
   "outputs": [
    {
     "data": {
      "image/png": "[encoded data removed]",
      "text/plain": [
       "<Figure size 432x288 with 1 Axes>"
      ]
     },
     "metadata": {},
     "output_type": "display_data"
    }
   ],
   "source": [
    "# Graphically finding the \"elbow\", where the SSE and the number of clusters are in reasonable trade-off to each other\n",
    "plt.style.use(\"fivethirtyeight\")\n",
    "plt.plot(range(1, 11), sse)\n",
    "plt.xticks(range(1, 11))\n",
    "plt.xlabel(\"Number of Clusters\")\n",
    "plt.ylabel(\"SSE\")\n",
    "plt.show()"
   ]
  },
  {
   "cell_type": "markdown",
   "metadata": {},
   "source": [
    "2 or 3 clusters can be found. Looking at the ancles of the ellbow, it seems, that two of them are relatively close to each other."
   ]
  },
  {
   "cell_type": "code",
   "execution_count": 18,
   "metadata": {},
   "outputs": [
    {
     "data": {
      "text/plain": [
       "3"
      ]
     },
     "execution_count": 18,
     "metadata": {},
     "output_type": "execute_result"
    }
   ],
   "source": [
    "# Using the Python package \"kneed\" to identify the elbow point programmatically\n",
    "kl = KneeLocator(range(1, 11), sse, curve=\"convex\", direction=\"decreasing\")\n",
    "kl.elbow"
   ]
  },
  {
   "cell_type": "markdown",
   "metadata": {},
   "source": [
    "There seems to be 3 clusters. Let's also implement the silhouette coefficient."
   ]
  },
  {
   "cell_type": "code",
   "execution_count": 19,
   "metadata": {},
   "outputs": [
    {
     "data": {
      "text/plain": [
       "[0.8134777043053864,\n",
       " 0.7282809013676836,\n",
       " 0.723097498219662,\n",
       " 0.6585220748121681,\n",
       " 0.6452131359680884,\n",
       " 0.5861195928222211,\n",
       " 0.5728411054952953,\n",
       " 0.5478955595700152,\n",
       " 0.5477451394498852]"
      ]
     },
     "execution_count": 19,
     "metadata": {},
     "output_type": "execute_result"
    }
   ],
   "source": [
    "# Making a List for the silhouette coefficients for each k, starting at 2\n",
    "silhouette_coefficients = []\n",
    "for k in range(2, 11):\n",
    "    kmeans = KMeans(n_clusters=k, **kmeans_kwargs)\n",
    "    kmeans.fit(poicount)\n",
    "    score = silhouette_score(poicount, kmeans.labels_)\n",
    "    silhouette_coefficients.append(score)\n",
    "\n",
    "silhouette_coefficients"
   ]
  },
  {
   "cell_type": "code",
   "execution_count": 20,
   "metadata": {},
   "outputs": [
    {
     "data": {
      "image/png": "[encoded data removed]",
      "text/plain": [
       "<Figure size 432x288 with 1 Axes>"
      ]
     },
     "metadata": {},
     "output_type": "display_data"
    }
   ],
   "source": [
    "# Plotting the average silhouette scores for each k\n",
    "plt.style.use(\"fivethirtyeight\")\n",
    "plt.plot(range(2, 11), silhouette_coefficients)\n",
    "plt.xticks(range(2, 11))\n",
    "plt.xlabel(\"Number of Clusters\")\n",
    "plt.ylabel(\"Silhouette Coefficient\")\n",
    "plt.show()"
   ]
  },
  {
   "cell_type": "markdown",
   "metadata": {},
   "source": [
    "This would speak for there being 2 clusters. By experimenting a bit with the data (not shown here) we found out, that when we'd reduce it to two clusters, then the biggest cluster would \"eat\" the second biggest cluster, which is a gross loss in information, especially since the biggest cluster is the biggest by far. So, we'll go with 3 clusters here."
   ]
  },
  {
   "cell_type": "markdown",
   "metadata": {},
   "source": [
    "Implementing KMeans"
   ]
  },
  {
   "cell_type": "code",
   "execution_count": 21,
   "metadata": {},
   "outputs": [],
   "source": [
    "# Initialising the KMeans class, running 50 times with a max of 500 interations each\n",
    "kmeans = KMeans(init=\"random\", n_clusters=3, n_init=50, max_iter=500)"
   ]
  },
  {
   "cell_type": "code",
   "execution_count": 22,
   "metadata": {},
   "outputs": [],
   "source": [
    "# Applying the KMeans class to our data: it returns that result with the smallest SSE\n",
    "kmeans.fit(poicount)\n",
    "label = kmeans.labels_ # getting lables for later mapping these to our dataframe"
   ]
  },
  {
   "cell_type": "code",
   "execution_count": 23,
   "metadata": {},
   "outputs": [
    {
     "data": {
      "text/plain": [
       "7194236.550377581"
      ]
     },
     "execution_count": 23,
     "metadata": {},
     "output_type": "execute_result"
    }
   ],
   "source": [
    "# Looking at the lowest SSE value\n",
    "kmeans.inertia_"
   ]
  },
  {
   "cell_type": "markdown",
   "metadata": {},
   "source": [
    "That high number is to be expected, because we have only 430 samples lost in 16 dimensions."
   ]
  },
  {
   "cell_type": "code",
   "execution_count": 24,
   "metadata": {},
   "outputs": [
    {
     "data": {
      "text/plain": [
       "array([[4.21650000e+02, 5.22250000e+01, 1.50375000e+01, 8.66250000e+00,\n",
       "        3.48750000e+00, 3.18750000e+00, 2.81250000e+00, 1.26250000e+00,\n",
       "        5.62500000e-01, 6.50000000e-01, 6.62500000e-01, 5.37500000e-01,\n",
       "        5.25000000e-01, 4.25000000e-01, 2.25000000e-01, 1.75000000e-01],\n",
       "       [4.53843844e+01, 1.37927928e+01, 3.06006006e+00, 1.63063063e+00,\n",
       "        6.27627628e-01, 3.87387387e-01, 4.98498498e-01, 1.80180180e-01,\n",
       "        3.54354354e-01, 2.79279279e-01, 1.29129129e-01, 1.83183183e-01,\n",
       "        1.02102102e-01, 8.10810811e-02, 7.20720721e-02, 6.00600601e-02],\n",
       "       [1.40500000e+03, 1.14705882e+02, 4.71176471e+01, 2.90588235e+01,\n",
       "        1.28235294e+01, 9.47058824e+00, 8.88235294e+00, 2.94117647e+00,\n",
       "        1.64705882e+00, 1.17647059e+00, 2.35294118e+00, 1.00000000e+00,\n",
       "        1.76470588e+00, 1.58823529e+00, 4.11764706e-01, 3.52941176e-01]])"
      ]
     },
     "execution_count": 24,
     "metadata": {},
     "output_type": "execute_result"
    }
   ],
   "source": [
    "# Looking at the locations of the centroids\n",
    "kmeans.cluster_centers_"
   ]
  },
  {
   "cell_type": "markdown",
   "metadata": {},
   "source": [
    "Looks like three distinct centroids, however when I ran this bevore, there were two quite similar ones (at eyesight quite close to each other) which lead me to believe that it might be only two \"real\" clusters."
   ]
  },
  {
   "cell_type": "code",
   "execution_count": 25,
   "metadata": {},
   "outputs": [
    {
     "name": "stdout",
     "output_type": "stream",
     "text": [
      "11 iterations\n"
     ]
    }
   ],
   "source": [
    "# Number of iterations required to converge\n",
    "print(kmeans.n_iter_, 'iterations')"
   ]
  },
  {
   "cell_type": "markdown",
   "metadata": {},
   "source": [
    "That's surprisingsly fast (however before, I had had only 2 even). I haven't come to grips yet what this would tell us about the data."
   ]
  },
  {
   "cell_type": "code",
   "execution_count": 26,
   "metadata": {},
   "outputs": [
    {
     "data": {
      "text/plain": [
       "array([1, 1, 1, 1, 1])"
      ]
     },
     "execution_count": 26,
     "metadata": {},
     "output_type": "execute_result"
    }
   ],
   "source": [
    "# Cluster assignments\n",
    "kmeans.labels_[:5] #looking at the first 5"
   ]
  },
  {
   "cell_type": "markdown",
   "metadata": {},
   "source": [
    "Probably all green routes with restaurats, cafes and so on (let's call it the \"green city route\") ... I'm sure that cluster is by far the largest."
   ]
  },
  {
   "cell_type": "code",
   "execution_count": 27,
   "metadata": {},
   "outputs": [
    {
     "data": {
      "text/plain": [
       "{0: 80, 1: 333, 2: 17}"
      ]
     },
     "execution_count": 27,
     "metadata": {},
     "output_type": "execute_result"
    }
   ],
   "source": [
    "# Checking how many times each lable appears\n",
    "unique, counts = np.unique(kmeans.labels_, return_counts=True)\n",
    "dict(zip(unique, counts))"
   ]
  },
  {
   "cell_type": "markdown",
   "metadata": {},
   "source": [
    "There is one cluster that is much bigger than the others. It's probably the \"green city route\"."
   ]
  },
  {
   "cell_type": "code",
   "execution_count": 28,
   "metadata": {},
   "outputs": [
    {
     "data": {
      "text/html": [
       "<div>\n",
       "<style scoped>\n",
       "    .dataframe tbody tr th:only-of-type {\n",
       "        vertical-align: middle;\n",
       "    }\n",
       "\n",
       "    .dataframe tbody tr th {\n",
       "        vertical-align: top;\n",
       "    }\n",
       "\n",
       "    .dataframe thead tr th {\n",
       "        text-align: left;\n",
       "    }\n",
       "</style>\n",
       "<table border=\"1\" class=\"dataframe\">\n",
       "  <thead>\n",
       "    <tr>\n",
       "      <th></th>\n",
       "      <th>tree</th>\n",
       "      <th>bench</th>\n",
       "      <th>restaurant</th>\n",
       "      <th>cafe</th>\n",
       "      <th>atm</th>\n",
       "      <th>convenience</th>\n",
       "      <th>bar</th>\n",
       "      <th>ice_cream</th>\n",
       "      <th>picnic</th>\n",
       "      <th>viewpoint</th>\n",
       "      <th>gallery</th>\n",
       "      <th>museum</th>\n",
       "      <th>nightclub</th>\n",
       "      <th>drinking_water</th>\n",
       "      <th>historic</th>\n",
       "      <th>tourist_attraction</th>\n",
       "    </tr>\n",
       "  </thead>\n",
       "  <tbody>\n",
       "    <tr>\n",
       "      <th>0</th>\n",
       "      <td>421.650000</td>\n",
       "      <td>52.225000</td>\n",
       "      <td>15.037500</td>\n",
       "      <td>8.662500</td>\n",
       "      <td>3.487500</td>\n",
       "      <td>3.187500</td>\n",
       "      <td>2.812500</td>\n",
       "      <td>1.262500</td>\n",
       "      <td>0.562500</td>\n",
       "      <td>0.650000</td>\n",
       "      <td>0.662500</td>\n",
       "      <td>0.537500</td>\n",
       "      <td>0.525000</td>\n",
       "      <td>0.425000</td>\n",
       "      <td>0.225000</td>\n",
       "      <td>0.175000</td>\n",
       "    </tr>\n",
       "    <tr>\n",
       "      <th>1</th>\n",
       "      <td>45.384384</td>\n",
       "      <td>13.792793</td>\n",
       "      <td>3.060060</td>\n",
       "      <td>1.630631</td>\n",
       "      <td>0.627628</td>\n",
       "      <td>0.387387</td>\n",
       "      <td>0.498498</td>\n",
       "      <td>0.180180</td>\n",
       "      <td>0.354354</td>\n",
       "      <td>0.279279</td>\n",
       "      <td>0.129129</td>\n",
       "      <td>0.183183</td>\n",
       "      <td>0.102102</td>\n",
       "      <td>0.081081</td>\n",
       "      <td>0.072072</td>\n",
       "      <td>0.060060</td>\n",
       "    </tr>\n",
       "    <tr>\n",
       "      <th>2</th>\n",
       "      <td>1405.000000</td>\n",
       "      <td>114.705882</td>\n",
       "      <td>47.117647</td>\n",
       "      <td>29.058824</td>\n",
       "      <td>12.823529</td>\n",
       "      <td>9.470588</td>\n",
       "      <td>8.882353</td>\n",
       "      <td>2.941176</td>\n",
       "      <td>1.647059</td>\n",
       "      <td>1.176471</td>\n",
       "      <td>2.352941</td>\n",
       "      <td>1.000000</td>\n",
       "      <td>1.764706</td>\n",
       "      <td>1.588235</td>\n",
       "      <td>0.411765</td>\n",
       "      <td>0.352941</td>\n",
       "    </tr>\n",
       "  </tbody>\n",
       "</table>\n",
       "</div>"
      ],
      "text/plain": [
       "          tree       bench restaurant       cafe        atm convenience  \\\n",
       "0   421.650000   52.225000  15.037500   8.662500   3.487500    3.187500   \n",
       "1    45.384384   13.792793   3.060060   1.630631   0.627628    0.387387   \n",
       "2  1405.000000  114.705882  47.117647  29.058824  12.823529    9.470588   \n",
       "\n",
       "        bar ice_cream    picnic viewpoint   gallery    museum nightclub  \\\n",
       "0  2.812500  1.262500  0.562500  0.650000  0.662500  0.537500  0.525000   \n",
       "1  0.498498  0.180180  0.354354  0.279279  0.129129  0.183183  0.102102   \n",
       "2  8.882353  2.941176  1.647059  1.176471  2.352941  1.000000  1.764706   \n",
       "\n",
       "  drinking_water  historic tourist_attraction  \n",
       "0       0.425000  0.225000           0.175000  \n",
       "1       0.081081  0.072072           0.060060  \n",
       "2       1.588235  0.411765           0.352941  "
      ]
     },
     "execution_count": 28,
     "metadata": {},
     "output_type": "execute_result"
    }
   ],
   "source": [
    "# Assigning the three cluster centres to each feature\n",
    "cluster_centers = pd.DataFrame(data=kmeans.cluster_centers_, columns = [df_poicount.columns[3:]])\n",
    "cluster_centers"
   ]
  },
  {
   "cell_type": "code",
   "execution_count": 29,
   "metadata": {},
   "outputs": [
    {
     "name": "stdout",
     "output_type": "stream",
     "text": [
      "Obviously, \"cluster [1] \" stands out for its high procimity to \"trees\" and everything else!!!!\n"
     ]
    }
   ],
   "source": [
    "# Comment on the cluster dataframe (so it stays correct with each update)\n",
    "max_value = max(dict(zip(unique, counts)).values())\n",
    "max_keys = [k for k, v in dict(zip(unique, counts)).items() if v == max_value]\n",
    "print('Obviously, \"cluster', max_keys, '\" stands out for its high procimity to \"trees\" and everything else!!!!')"
   ]
  },
  {
   "cell_type": "markdown",
   "metadata": {},
   "source": [
    "Major revelation:\n",
    "-----------------------------------------------------------------------------------------------------------------------------------------------------------------\n",
    "KMeans had grouped the longer routes into one cluster. It wasn't intended to cluster on length of routes, but rather on the TYPES of features (points on interest along the routes. Solution: routes must be standardised before (axis = 0). With our data, it's of mayor importance to standardise, since the routes have a very huge variance in length:\n",
    "-----------------------------------------------------------------------------------------------------------------------------------------------------------------"
   ]
  },
  {
   "cell_type": "code",
   "execution_count": 30,
   "metadata": {},
   "outputs": [
    {
     "data": {
      "text/plain": [
       "count     430.000000\n",
       "mean      211.869767\n",
       "std       369.018893\n",
       "min         1.000000\n",
       "25%        14.000000\n",
       "50%        62.000000\n",
       "75%       256.250000\n",
       "max      3171.000000\n",
       "Name: poi, dtype: float64"
      ]
     },
     "execution_count": 30,
     "metadata": {},
     "output_type": "execute_result"
    }
   ],
   "source": [
    "# Displaying information on the variance in number of points of interest found for each route (consider the std)\n",
    "df_poicount['poi'].describe()"
   ]
  },
  {
   "cell_type": "code",
   "execution_count": 61,
   "metadata": {},
   "outputs": [
    {
     "data": {
      "text/html": [
       "<div>\n",
       "<style scoped>\n",
       "    .dataframe tbody tr th:only-of-type {\n",
       "        vertical-align: middle;\n",
       "    }\n",
       "\n",
       "    .dataframe tbody tr th {\n",
       "        vertical-align: top;\n",
       "    }\n",
       "\n",
       "    .dataframe thead th {\n",
       "        text-align: right;\n",
       "    }\n",
       "</style>\n",
       "<table border=\"1\" class=\"dataframe\">\n",
       "  <thead>\n",
       "    <tr style=\"text-align: right;\">\n",
       "      <th></th>\n",
       "      <th>route_id</th>\n",
       "      <th>wp</th>\n",
       "      <th>poi</th>\n",
       "      <th>tree</th>\n",
       "      <th>bench</th>\n",
       "      <th>restaurant</th>\n",
       "      <th>cafe</th>\n",
       "      <th>atm</th>\n",
       "      <th>convenience</th>\n",
       "      <th>bar</th>\n",
       "      <th>ice_cream</th>\n",
       "      <th>picnic</th>\n",
       "      <th>viewpoint</th>\n",
       "      <th>gallery</th>\n",
       "      <th>museum</th>\n",
       "      <th>nightclub</th>\n",
       "      <th>drinking_water</th>\n",
       "      <th>historic</th>\n",
       "      <th>tourist_attraction</th>\n",
       "    </tr>\n",
       "  </thead>\n",
       "  <tbody>\n",
       "    <tr>\n",
       "      <th>0</th>\n",
       "      <td>3503503</td>\n",
       "      <td>8</td>\n",
       "      <td>14</td>\n",
       "      <td>-0.229401</td>\n",
       "      <td>-0.229418</td>\n",
       "      <td>-0.229418</td>\n",
       "      <td>-0.229418</td>\n",
       "      <td>-0.229418</td>\n",
       "      <td>-0.229418</td>\n",
       "      <td>-0.229418</td>\n",
       "      <td>-0.229418</td>\n",
       "      <td>-0.229418</td>\n",
       "      <td>-0.229418</td>\n",
       "      <td>-0.229418</td>\n",
       "      <td>-0.229418</td>\n",
       "      <td>-0.229418</td>\n",
       "      <td>-0.229418</td>\n",
       "      <td>-0.229418</td>\n",
       "      <td>-0.229418</td>\n",
       "    </tr>\n",
       "    <tr>\n",
       "      <th>1</th>\n",
       "      <td>2713522</td>\n",
       "      <td>8</td>\n",
       "      <td>2</td>\n",
       "      <td>-0.229417</td>\n",
       "      <td>-0.229414</td>\n",
       "      <td>-0.229417</td>\n",
       "      <td>-0.229417</td>\n",
       "      <td>-0.229417</td>\n",
       "      <td>-0.229417</td>\n",
       "      <td>-0.229417</td>\n",
       "      <td>-0.229417</td>\n",
       "      <td>-0.229417</td>\n",
       "      <td>-0.229417</td>\n",
       "      <td>-0.229417</td>\n",
       "      <td>-0.229417</td>\n",
       "      <td>-0.229417</td>\n",
       "      <td>-0.229417</td>\n",
       "      <td>-0.229417</td>\n",
       "      <td>-0.229417</td>\n",
       "    </tr>\n",
       "    <tr>\n",
       "      <th>2</th>\n",
       "      <td>3503504</td>\n",
       "      <td>8</td>\n",
       "      <td>9</td>\n",
       "      <td>-0.229406</td>\n",
       "      <td>-0.229418</td>\n",
       "      <td>-0.229418</td>\n",
       "      <td>-0.229418</td>\n",
       "      <td>-0.229418</td>\n",
       "      <td>-0.229418</td>\n",
       "      <td>-0.229418</td>\n",
       "      <td>-0.229418</td>\n",
       "      <td>-0.229418</td>\n",
       "      <td>-0.229418</td>\n",
       "      <td>-0.229418</td>\n",
       "      <td>-0.229418</td>\n",
       "      <td>-0.229418</td>\n",
       "      <td>-0.229418</td>\n",
       "      <td>-0.229418</td>\n",
       "      <td>-0.229418</td>\n",
       "    </tr>\n",
       "    <tr>\n",
       "      <th>3</th>\n",
       "      <td>3568200</td>\n",
       "      <td>8</td>\n",
       "      <td>18</td>\n",
       "      <td>-0.229397</td>\n",
       "      <td>-0.229419</td>\n",
       "      <td>-0.229419</td>\n",
       "      <td>-0.229419</td>\n",
       "      <td>-0.229419</td>\n",
       "      <td>-0.229419</td>\n",
       "      <td>-0.229419</td>\n",
       "      <td>-0.229419</td>\n",
       "      <td>-0.229419</td>\n",
       "      <td>-0.229419</td>\n",
       "      <td>-0.229419</td>\n",
       "      <td>-0.229419</td>\n",
       "      <td>-0.229419</td>\n",
       "      <td>-0.229419</td>\n",
       "      <td>-0.229419</td>\n",
       "      <td>-0.229419</td>\n",
       "    </tr>\n",
       "    <tr>\n",
       "      <th>4</th>\n",
       "      <td>3573326</td>\n",
       "      <td>9</td>\n",
       "      <td>2</td>\n",
       "      <td>-0.229417</td>\n",
       "      <td>-0.229417</td>\n",
       "      <td>-0.229414</td>\n",
       "      <td>-0.229417</td>\n",
       "      <td>-0.229417</td>\n",
       "      <td>-0.229417</td>\n",
       "      <td>-0.229417</td>\n",
       "      <td>-0.229417</td>\n",
       "      <td>-0.229417</td>\n",
       "      <td>-0.229417</td>\n",
       "      <td>-0.229417</td>\n",
       "      <td>-0.229417</td>\n",
       "      <td>-0.229417</td>\n",
       "      <td>-0.229417</td>\n",
       "      <td>-0.229417</td>\n",
       "      <td>-0.229417</td>\n",
       "    </tr>\n",
       "  </tbody>\n",
       "</table>\n",
       "</div>"
      ],
      "text/plain": [
       "   route_id  wp  poi      tree     bench  restaurant      cafe       atm  \\\n",
       "0   3503503   8   14 -0.229401 -0.229418   -0.229418 -0.229418 -0.229418   \n",
       "1   2713522   8    2 -0.229417 -0.229414   -0.229417 -0.229417 -0.229417   \n",
       "2   3503504   8    9 -0.229406 -0.229418   -0.229418 -0.229418 -0.229418   \n",
       "3   3568200   8   18 -0.229397 -0.229419   -0.229419 -0.229419 -0.229419   \n",
       "4   3573326   9    2 -0.229417 -0.229417   -0.229414 -0.229417 -0.229417   \n",
       "\n",
       "   convenience       bar  ice_cream    picnic  viewpoint   gallery    museum  \\\n",
       "0    -0.229418 -0.229418  -0.229418 -0.229418  -0.229418 -0.229418 -0.229418   \n",
       "1    -0.229417 -0.229417  -0.229417 -0.229417  -0.229417 -0.229417 -0.229417   \n",
       "2    -0.229418 -0.229418  -0.229418 -0.229418  -0.229418 -0.229418 -0.229418   \n",
       "3    -0.229419 -0.229419  -0.229419 -0.229419  -0.229419 -0.229419 -0.229419   \n",
       "4    -0.229417 -0.229417  -0.229417 -0.229417  -0.229417 -0.229417 -0.229417   \n",
       "\n",
       "   nightclub  drinking_water  historic  tourist_attraction  \n",
       "0  -0.229418       -0.229418 -0.229418           -0.229418  \n",
       "1  -0.229417       -0.229417 -0.229417           -0.229417  \n",
       "2  -0.229418       -0.229418 -0.229418           -0.229418  \n",
       "3  -0.229419       -0.229419 -0.229419           -0.229419  \n",
       "4  -0.229417       -0.229417 -0.229417           -0.229417  "
      ]
     },
     "execution_count": 61,
     "metadata": {},
     "output_type": "execute_result"
    }
   ],
   "source": [
    "# Standardising on axis 0 (rowise)\n",
    "df_st = df_poicount.iloc[:, 3:].sub(df_poicount.mean(1), axis=0).div(df_poicount.std(1), axis=0) #standardising all the feature values on axis 0 \n",
    "df_id_info = df_poicount.iloc[:, 0:3] # extracting the first three columns from the poicount df\n",
    "df_poistand = pd.merge(df_id_info, df_st, how='outer', left_index=True, right_index=True) # joining on index\n",
    "df_poistand.head()"
   ]
  },
  {
   "cell_type": "code",
   "execution_count": 60,
   "metadata": {},
   "outputs": [],
   "source": [
    "# Writing the standardised df in a new csv file\n",
    "df_poistand.to_csv(r'poistand.csv', index=False)"
   ]
  },
  {
   "cell_type": "markdown",
   "metadata": {},
   "source": [
    "Now, we can restart the whole process."
   ]
  },
  {
   "cell_type": "code",
   "execution_count": 71,
   "metadata": {},
   "outputs": [],
   "source": [
    "# Reading poistand data in as numpy arrays\n",
    "poistand = np.genfromtxt('poistand.csv', delimiter=\",\", usecols=range(3, 19), skip_header=1)"
   ]
  },
  {
   "cell_type": "markdown",
   "metadata": {},
   "source": [
    "\"Elbow\" method for finding the best k for kMeans"
   ]
  },
  {
   "cell_type": "code",
   "execution_count": 72,
   "metadata": {},
   "outputs": [
    {
     "data": {
      "image/png": "[encoded data removed]",
      "text/plain": [
       "<Figure size 432x288 with 1 Axes>"
      ]
     },
     "metadata": {},
     "output_type": "display_data"
    },
    {
     "name": "stdout",
     "output_type": "stream",
     "text": [
      "4\n"
     ]
    }
   ],
   "source": [
    "# Increasing k by 1 with every step and store the SSE in a list\n",
    "kmeans_kwargs = {\"init\": \"random\", \"n_init\": 50, \"max_iter\": 500}\n",
    "\n",
    "# Writing the SSE values for each k into a list\n",
    "sse = []\n",
    "for k in range(1, 11):\n",
    "    kmeans = KMeans(n_clusters=k, **kmeans_kwargs)\n",
    "    kmeans.fit(poistand)\n",
    "    sse.append(kmeans.inertia_)\n",
    "\n",
    "# Graphically finding the \"elbow\", where the SSE and the number of clusters are in reasonable trade-off to each other\n",
    "plt.style.use(\"fivethirtyeight\")\n",
    "plt.plot(range(1, 11), sse)\n",
    "plt.xticks(range(1, 11))\n",
    "plt.xlabel(\"Number of Clusters\")\n",
    "plt.ylabel(\"SSE\")\n",
    "plt.show()\n",
    "\n",
    "# Using the Python package \"kneed\" to identify the elbow point programmatically\n",
    "kl = KneeLocator(range(1, 11), sse, curve=\"convex\", direction=\"decreasing\")\n",
    "print(kl.elbow)"
   ]
  },
  {
   "cell_type": "markdown",
   "metadata": {},
   "source": [
    "After standardisation, the \"elbow\" method now finds 4 clusters (maybe 3). Yeay."
   ]
  },
  {
   "cell_type": "markdown",
   "metadata": {},
   "source": [
    "Using silhouette coefficients for finding the best k"
   ]
  },
  {
   "cell_type": "code",
   "execution_count": 74,
   "metadata": {},
   "outputs": [
    {
     "data": {
      "image/png": "[encoded data removed]",
      "text/plain": [
       "<Figure size 432x288 with 1 Axes>"
      ]
     },
     "metadata": {},
     "output_type": "display_data"
    }
   ],
   "source": [
    "# Making a List for the silhouette coefficients for each k, starting at 2\n",
    "silhouette_coefficients = []\n",
    "for k in range(2, 11):\n",
    "    kmeans = KMeans(n_clusters=k, **kmeans_kwargs)\n",
    "    kmeans.fit(poistand)\n",
    "    score = silhouette_score(poistand, kmeans.labels_)\n",
    "    silhouette_coefficients.append(score)\n",
    "\n",
    "# Plotting the average silhouette scores for each k\n",
    "plt.style.use(\"fivethirtyeight\")\n",
    "plt.plot(range(2, 11), silhouette_coefficients)\n",
    "plt.xticks(range(2, 11))\n",
    "plt.xlabel(\"Number of Clusters\")\n",
    "plt.ylabel(\"Silhouette Coefficient\")\n",
    "plt.show()"
   ]
  },
  {
   "cell_type": "markdown",
   "metadata": {},
   "source": [
    "It looks like we'd still best go with 2 clusters. At this point I wonder if I'm interpreting this graph the right way. I will look into it later."
   ]
  },
  {
   "cell_type": "markdown",
   "metadata": {},
   "source": [
    "Initialising kMeans with 4 clusters"
   ]
  },
  {
   "cell_type": "code",
   "execution_count": 91,
   "metadata": {},
   "outputs": [],
   "source": [
    "# Initialising the kMeans class, running 50 times with a max of 500 interations each\n",
    "kmeans = KMeans(init=\"random\", n_clusters=4, n_init=50, max_iter=500)\n",
    "\n",
    "# Applying the KMeans class to our data: it returns that result with the smallest SSE\n",
    "kmeans.fit(poistand)\n",
    "newlabel = kmeans.labels_ # getting lables for later mapping these to our dataframe"
   ]
  },
  {
   "cell_type": "code",
   "execution_count": 92,
   "metadata": {},
   "outputs": [
    {
     "data": {
      "text/plain": [
       "7.973540567490898e-05"
      ]
     },
     "execution_count": 92,
     "metadata": {},
     "output_type": "execute_result"
    }
   ],
   "source": [
    "# Looking at the lowest SSE value\n",
    "kmeans.inertia_"
   ]
  },
  {
   "cell_type": "markdown",
   "metadata": {},
   "source": [
    "Now in std units very small."
   ]
  },
  {
   "cell_type": "code",
   "execution_count": 93,
   "metadata": {},
   "outputs": [
    {
     "data": {
      "text/plain": [
       "array([[-0.22473609, -0.23232822, -0.23243599, -0.23260364, -0.23272339,\n",
       "        -0.23278327, -0.23281919, -0.23284314, -0.23289104, -0.23289104,\n",
       "        -0.23287906, -0.23286709, -0.23289104, -0.23289104, -0.23286709,\n",
       "        -0.23289104],\n",
       "       [-0.22931075, -0.22943894, -0.22946208, -0.229465  , -0.22946747,\n",
       "        -0.22946774, -0.22946769, -0.22946843, -0.22946837, -0.22946843,\n",
       "        -0.22946861, -0.22946856, -0.22946866, -0.22946872, -0.22946875,\n",
       "        -0.22946878],\n",
       "       [-0.22778601, -0.22965036, -0.22969107, -0.2297491 , -0.22978155,\n",
       "        -0.22979646, -0.22979154, -0.2298047 , -0.22981175, -0.22981039,\n",
       "        -0.22980981, -0.22980943, -0.22980779, -0.22981   , -0.22981304,\n",
       "        -0.22981321],\n",
       "       [-0.23052871, -0.2245066 , -0.23102811, -0.23099873, -0.23102811,\n",
       "        -0.23102811, -0.23102811, -0.23102811, -0.23102811, -0.23093998,\n",
       "        -0.23102811, -0.23102811, -0.23102811, -0.23099873, -0.23102811,\n",
       "        -0.23102811]])"
      ]
     },
     "execution_count": 93,
     "metadata": {},
     "output_type": "execute_result"
    }
   ],
   "source": [
    "# Looking at the locations of the centroids\n",
    "kmeans.cluster_centers_"
   ]
  },
  {
   "cell_type": "markdown",
   "metadata": {},
   "source": [
    "Difficult to read with the eyes."
   ]
  },
  {
   "cell_type": "code",
   "execution_count": 94,
   "metadata": {},
   "outputs": [
    {
     "name": "stdout",
     "output_type": "stream",
     "text": [
      "16 iterations\n"
     ]
    }
   ],
   "source": [
    "# Number of iterations required to converge\n",
    "print(kmeans.n_iter_, 'iterations')"
   ]
  },
  {
   "cell_type": "code",
   "execution_count": 95,
   "metadata": {},
   "outputs": [
    {
     "data": {
      "text/plain": [
       "array([1, 1, 1, 1, 1, 1, 1, 1, 1, 1, 1, 1, 1, 1, 1, 1, 1, 1, 1, 1, 1, 2,\n",
       "       1, 1, 1, 1, 1, 1, 1, 1, 1, 1, 1, 1, 1, 1, 1, 1, 1, 1, 1, 1, 1, 1,\n",
       "       1, 2, 1, 1, 1, 1])"
      ]
     },
     "execution_count": 95,
     "metadata": {},
     "output_type": "execute_result"
    }
   ],
   "source": [
    "# Cluster assignments\n",
    "kmeans.labels_[:50] #looking at the first 5"
   ]
  },
  {
   "cell_type": "markdown",
   "metadata": {},
   "source": [
    "Not enough variation. The hugest cluster will include most of the routes again."
   ]
  },
  {
   "cell_type": "code",
   "execution_count": 96,
   "metadata": {},
   "outputs": [
    {
     "data": {
      "text/plain": [
       "{0: 1, 1: 398, 2: 30, 3: 1}"
      ]
     },
     "execution_count": 96,
     "metadata": {},
     "output_type": "execute_result"
    }
   ],
   "source": [
    "# Checking how many times each lable appears\n",
    "unique, counts = np.unique(kmeans.labels_, return_counts=True)\n",
    "dict(zip(unique, counts))"
   ]
  },
  {
   "cell_type": "markdown",
   "metadata": {},
   "source": [
    "Hugest cluster even huger than with not standardized data. The reason: it's not sensitive enough."
   ]
  },
  {
   "cell_type": "code",
   "execution_count": 103,
   "metadata": {},
   "outputs": [
    {
     "data": {
      "text/html": [
       "<div>\n",
       "<style scoped>\n",
       "    .dataframe tbody tr th:only-of-type {\n",
       "        vertical-align: middle;\n",
       "    }\n",
       "\n",
       "    .dataframe tbody tr th {\n",
       "        vertical-align: top;\n",
       "    }\n",
       "\n",
       "    .dataframe thead th {\n",
       "        text-align: right;\n",
       "    }\n",
       "</style>\n",
       "<table border=\"1\" class=\"dataframe\">\n",
       "  <thead>\n",
       "    <tr style=\"text-align: right;\">\n",
       "      <th></th>\n",
       "      <th>route_id</th>\n",
       "      <th>wp</th>\n",
       "      <th>poi</th>\n",
       "      <th>tree</th>\n",
       "      <th>bench</th>\n",
       "      <th>restaurant</th>\n",
       "      <th>cafe</th>\n",
       "      <th>atm</th>\n",
       "      <th>convenience</th>\n",
       "      <th>bar</th>\n",
       "      <th>ice_cream</th>\n",
       "      <th>picnic</th>\n",
       "      <th>viewpoint</th>\n",
       "      <th>gallery</th>\n",
       "      <th>museum</th>\n",
       "      <th>nightclub</th>\n",
       "      <th>drinking_water</th>\n",
       "      <th>historic</th>\n",
       "      <th>tourist_attraction</th>\n",
       "      <th>cluster</th>\n",
       "    </tr>\n",
       "  </thead>\n",
       "  <tbody>\n",
       "    <tr>\n",
       "      <th>0</th>\n",
       "      <td>3503503</td>\n",
       "      <td>8</td>\n",
       "      <td>14</td>\n",
       "      <td>14</td>\n",
       "      <td>0</td>\n",
       "      <td>0</td>\n",
       "      <td>0</td>\n",
       "      <td>0</td>\n",
       "      <td>0</td>\n",
       "      <td>0</td>\n",
       "      <td>0</td>\n",
       "      <td>0</td>\n",
       "      <td>0</td>\n",
       "      <td>0</td>\n",
       "      <td>0</td>\n",
       "      <td>0</td>\n",
       "      <td>0</td>\n",
       "      <td>0</td>\n",
       "      <td>0</td>\n",
       "      <td>1</td>\n",
       "    </tr>\n",
       "    <tr>\n",
       "      <th>1</th>\n",
       "      <td>2713522</td>\n",
       "      <td>8</td>\n",
       "      <td>2</td>\n",
       "      <td>0</td>\n",
       "      <td>2</td>\n",
       "      <td>0</td>\n",
       "      <td>0</td>\n",
       "      <td>0</td>\n",
       "      <td>0</td>\n",
       "      <td>0</td>\n",
       "      <td>0</td>\n",
       "      <td>0</td>\n",
       "      <td>0</td>\n",
       "      <td>0</td>\n",
       "      <td>0</td>\n",
       "      <td>0</td>\n",
       "      <td>0</td>\n",
       "      <td>0</td>\n",
       "      <td>0</td>\n",
       "      <td>1</td>\n",
       "    </tr>\n",
       "    <tr>\n",
       "      <th>2</th>\n",
       "      <td>3503504</td>\n",
       "      <td>8</td>\n",
       "      <td>9</td>\n",
       "      <td>9</td>\n",
       "      <td>0</td>\n",
       "      <td>0</td>\n",
       "      <td>0</td>\n",
       "      <td>0</td>\n",
       "      <td>0</td>\n",
       "      <td>0</td>\n",
       "      <td>0</td>\n",
       "      <td>0</td>\n",
       "      <td>0</td>\n",
       "      <td>0</td>\n",
       "      <td>0</td>\n",
       "      <td>0</td>\n",
       "      <td>0</td>\n",
       "      <td>0</td>\n",
       "      <td>0</td>\n",
       "      <td>1</td>\n",
       "    </tr>\n",
       "    <tr>\n",
       "      <th>3</th>\n",
       "      <td>3568200</td>\n",
       "      <td>8</td>\n",
       "      <td>18</td>\n",
       "      <td>18</td>\n",
       "      <td>0</td>\n",
       "      <td>0</td>\n",
       "      <td>0</td>\n",
       "      <td>0</td>\n",
       "      <td>0</td>\n",
       "      <td>0</td>\n",
       "      <td>0</td>\n",
       "      <td>0</td>\n",
       "      <td>0</td>\n",
       "      <td>0</td>\n",
       "      <td>0</td>\n",
       "      <td>0</td>\n",
       "      <td>0</td>\n",
       "      <td>0</td>\n",
       "      <td>0</td>\n",
       "      <td>1</td>\n",
       "    </tr>\n",
       "    <tr>\n",
       "      <th>4</th>\n",
       "      <td>3573326</td>\n",
       "      <td>9</td>\n",
       "      <td>2</td>\n",
       "      <td>0</td>\n",
       "      <td>0</td>\n",
       "      <td>2</td>\n",
       "      <td>0</td>\n",
       "      <td>0</td>\n",
       "      <td>0</td>\n",
       "      <td>0</td>\n",
       "      <td>0</td>\n",
       "      <td>0</td>\n",
       "      <td>0</td>\n",
       "      <td>0</td>\n",
       "      <td>0</td>\n",
       "      <td>0</td>\n",
       "      <td>0</td>\n",
       "      <td>0</td>\n",
       "      <td>0</td>\n",
       "      <td>1</td>\n",
       "    </tr>\n",
       "  </tbody>\n",
       "</table>\n",
       "</div>"
      ],
      "text/plain": [
       "   route_id  wp  poi  tree  bench  restaurant  cafe  atm  convenience  bar  \\\n",
       "0   3503503   8   14    14      0           0     0    0            0    0   \n",
       "1   2713522   8    2     0      2           0     0    0            0    0   \n",
       "2   3503504   8    9     9      0           0     0    0            0    0   \n",
       "3   3568200   8   18    18      0           0     0    0            0    0   \n",
       "4   3573326   9    2     0      0           2     0    0            0    0   \n",
       "\n",
       "   ice_cream  picnic  viewpoint  gallery  museum  nightclub  drinking_water  \\\n",
       "0          0       0          0        0       0          0               0   \n",
       "1          0       0          0        0       0          0               0   \n",
       "2          0       0          0        0       0          0               0   \n",
       "3          0       0          0        0       0          0               0   \n",
       "4          0       0          0        0       0          0               0   \n",
       "\n",
       "   historic  tourist_attraction  cluster  \n",
       "0         0                   0        1  \n",
       "1         0                   0        1  \n",
       "2         0                   0        1  \n",
       "3         0                   0        1  \n",
       "4         0                   0        1  "
      ]
     },
     "execution_count": 103,
     "metadata": {},
     "output_type": "execute_result"
    }
   ],
   "source": [
    "# Mapping our labels into our dataframe (each route gets a cluster label)\n",
    "df_poicount_cluster = pd.concat([df_poicount, pd.DataFrame({'cluster':newlabel})], join='inner', axis=1)\n",
    "df_poicount_cluster.head()"
   ]
  },
  {
   "cell_type": "code",
   "execution_count": 100,
   "metadata": {},
   "outputs": [],
   "source": [
    "# Writing the enhanced dataframe into a new csv file.\n",
    "df_poicount_cluster.to_csv('clustered_routes.csv')"
   ]
  },
  {
   "cell_type": "markdown",
   "metadata": {},
   "source": [
    "Let's try some dimensionality reduction accompanied with plotting using 3 clusters"
   ]
  },
  {
   "cell_type": "code",
   "execution_count": 101,
   "metadata": {},
   "outputs": [
    {
     "data": {
      "text/html": [
       "<div>\n",
       "<style scoped>\n",
       "    .dataframe tbody tr th:only-of-type {\n",
       "        vertical-align: middle;\n",
       "    }\n",
       "\n",
       "    .dataframe tbody tr th {\n",
       "        vertical-align: top;\n",
       "    }\n",
       "\n",
       "    .dataframe thead th {\n",
       "        text-align: right;\n",
       "    }\n",
       "</style>\n",
       "<table border=\"1\" class=\"dataframe\">\n",
       "  <thead>\n",
       "    <tr style=\"text-align: right;\">\n",
       "      <th></th>\n",
       "      <th>pca1</th>\n",
       "      <th>pca2</th>\n",
       "      <th>cluster</th>\n",
       "    </tr>\n",
       "  </thead>\n",
       "  <tbody>\n",
       "    <tr>\n",
       "      <th>0</th>\n",
       "      <td>-460507.851322</td>\n",
       "      <td>-498.846215</td>\n",
       "      <td>1</td>\n",
       "    </tr>\n",
       "    <tr>\n",
       "      <th>1</th>\n",
       "      <td>329473.145787</td>\n",
       "      <td>-430.462965</td>\n",
       "      <td>1</td>\n",
       "    </tr>\n",
       "    <tr>\n",
       "      <th>2</th>\n",
       "      <td>-460508.851148</td>\n",
       "      <td>-500.398996</td>\n",
       "      <td>1</td>\n",
       "    </tr>\n",
       "    <tr>\n",
       "      <th>3</th>\n",
       "      <td>-525204.851190</td>\n",
       "      <td>-503.509625</td>\n",
       "      <td>1</td>\n",
       "    </tr>\n",
       "    <tr>\n",
       "      <th>4</th>\n",
       "      <td>-530330.850696</td>\n",
       "      <td>-507.995575</td>\n",
       "      <td>1</td>\n",
       "    </tr>\n",
       "  </tbody>\n",
       "</table>\n",
       "</div>"
      ],
      "text/plain": [
       "            pca1        pca2  cluster\n",
       "0 -460507.851322 -498.846215        1\n",
       "1  329473.145787 -430.462965        1\n",
       "2 -460508.851148 -500.398996        1\n",
       "3 -525204.851190 -503.509625        1\n",
       "4 -530330.850696 -507.995575        1"
      ]
     },
     "execution_count": 101,
     "metadata": {},
     "output_type": "execute_result"
    }
   ],
   "source": [
    "# Principal Component Analysis\n",
    "pca = PCA(n_components=2)\n",
    "principal_comp = pca.fit_transform(df_poistand)\n",
    "pca_df = pd.DataFrame(data=principal_comp,columns=['pca1','pca2'])\n",
    "pca_df = pd.concat([pca_df,pd.DataFrame({'cluster':newlabel})],axis=1)\n",
    "pca_df.head()"
   ]
  },
  {
   "cell_type": "code",
   "execution_count": 102,
   "metadata": {},
   "outputs": [
    {
     "data": {
      "image/png": "[encoded data removed]",
      "text/plain": [
       "<Figure size 360x360 with 1 Axes>"
      ]
     },
     "metadata": {},
     "output_type": "display_data"
    }
   ],
   "source": [
    "# Scatterplot of our clusters, reduced to two dimensions\n",
    "plt.figure(figsize=(5,5))\n",
    "ax= sns.scatterplot(x='pca1', y='pca2', hue='cluster',data=pca_df,palette=['red','green','blue','yellow'])\n",
    "plt.show()"
   ]
  },
  {
   "cell_type": "markdown",
   "metadata": {},
   "source": [
    "The clusters don't look spheric. There seems to be outliers, too. Next step would be to reduce the outliers and to make kMeans more sensitive."
   ]
  }
 ],
 "metadata": {
  "interpreter": {
   "hash": "564affda49c06e85285ae0fe8dd2119d248d31041ebeec06fe0c8f5f82f46c07"
  },
  "kernelspec": {
   "display_name": "Python 3.10.1 64-bit",
   "language": "python",
   "name": "python3"
  },
  "language_info": {
   "codemirror_mode": {
    "name": "ipython",
    "version": 3
   },
   "file_extension": ".py",
   "mimetype": "text/x-python",
   "name": "python",
   "nbconvert_exporter": "python",
   "pygments_lexer": "ipython3",
   "version": "3.10.1"
  },
  "orig_nbformat": 4
 },
 "nbformat": 4,
 "nbformat_minor": 2
}
