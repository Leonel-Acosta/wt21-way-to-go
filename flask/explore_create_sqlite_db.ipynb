{
 "cells": [
  {
   "cell_type": "code",
   "execution_count": 2,
   "id": "22790e3a",
   "metadata": {},
   "outputs": [
    {
     "data": {
      "text/html": [
       "<div>\n",
       "<style scoped>\n",
       "    .dataframe tbody tr th:only-of-type {\n",
       "        vertical-align: middle;\n",
       "    }\n",
       "\n",
       "    .dataframe tbody tr th {\n",
       "        vertical-align: top;\n",
       "    }\n",
       "\n",
       "    .dataframe thead th {\n",
       "        text-align: right;\n",
       "    }\n",
       "</style>\n",
       "<table border=\"1\" class=\"dataframe\">\n",
       "  <thead>\n",
       "    <tr style=\"text-align: right;\">\n",
       "      <th></th>\n",
       "      <th>Unnamed: 0</th>\n",
       "      <th>route_id</th>\n",
       "      <th>route_linestring</th>\n",
       "      <th>num_of_waypoint</th>\n",
       "      <th>poi_lat_lgt</th>\n",
       "      <th>poi_category</th>\n",
       "      <th>poi_name</th>\n",
       "      <th>distance</th>\n",
       "    </tr>\n",
       "  </thead>\n",
       "  <tbody>\n",
       "    <tr>\n",
       "      <th>0</th>\n",
       "      <td>0</td>\n",
       "      <td>113043.0</td>\n",
       "      <td>LINESTRING (52.45147 13.69072, 52.45147 13.690...</td>\n",
       "      <td>133.0</td>\n",
       "      <td>POINT (52.4385208 13.6774745)</td>\n",
       "      <td>['viewpoint']</td>\n",
       "      <td>Müggeleck</td>\n",
       "      <td>0.000138</td>\n",
       "    </tr>\n",
       "    <tr>\n",
       "      <th>1</th>\n",
       "      <td>1</td>\n",
       "      <td>113043.0</td>\n",
       "      <td>LINESTRING (52.45147 13.69072, 52.45147 13.690...</td>\n",
       "      <td>282.0</td>\n",
       "      <td>POINT (52.444312 13.6279051)</td>\n",
       "      <td>['bench']</td>\n",
       "      <td>NaN</td>\n",
       "      <td>0.000551</td>\n",
       "    </tr>\n",
       "    <tr>\n",
       "      <th>2</th>\n",
       "      <td>2</td>\n",
       "      <td>113043.0</td>\n",
       "      <td>LINESTRING (52.45147 13.69072, 52.45147 13.690...</td>\n",
       "      <td>288.0</td>\n",
       "      <td>POINT (52.4444457 13.6271595)</td>\n",
       "      <td>['bench']</td>\n",
       "      <td>NaN</td>\n",
       "      <td>0.000122</td>\n",
       "    </tr>\n",
       "    <tr>\n",
       "      <th>3</th>\n",
       "      <td>3</td>\n",
       "      <td>113043.0</td>\n",
       "      <td>LINESTRING (52.45147 13.69072, 52.45147 13.690...</td>\n",
       "      <td>288.0</td>\n",
       "      <td>POINT (52.4444808 13.6269487)</td>\n",
       "      <td>['bench']</td>\n",
       "      <td>NaN</td>\n",
       "      <td>0.000110</td>\n",
       "    </tr>\n",
       "    <tr>\n",
       "      <th>4</th>\n",
       "      <td>4</td>\n",
       "      <td>113043.0</td>\n",
       "      <td>LINESTRING (52.45147 13.69072, 52.45147 13.690...</td>\n",
       "      <td>292.0</td>\n",
       "      <td>POINT (52.4453161 13.6273851)</td>\n",
       "      <td>['bench']</td>\n",
       "      <td>NaN</td>\n",
       "      <td>0.000319</td>\n",
       "    </tr>\n",
       "  </tbody>\n",
       "</table>\n",
       "</div>"
      ],
      "text/plain": [
       "   Unnamed: 0  route_id                                   route_linestring  \\\n",
       "0           0  113043.0  LINESTRING (52.45147 13.69072, 52.45147 13.690...   \n",
       "1           1  113043.0  LINESTRING (52.45147 13.69072, 52.45147 13.690...   \n",
       "2           2  113043.0  LINESTRING (52.45147 13.69072, 52.45147 13.690...   \n",
       "3           3  113043.0  LINESTRING (52.45147 13.69072, 52.45147 13.690...   \n",
       "4           4  113043.0  LINESTRING (52.45147 13.69072, 52.45147 13.690...   \n",
       "\n",
       "   num_of_waypoint                    poi_lat_lgt   poi_category   poi_name  \\\n",
       "0            133.0  POINT (52.4385208 13.6774745)  ['viewpoint']  Müggeleck   \n",
       "1            282.0   POINT (52.444312 13.6279051)      ['bench']        NaN   \n",
       "2            288.0  POINT (52.4444457 13.6271595)      ['bench']        NaN   \n",
       "3            288.0  POINT (52.4444808 13.6269487)      ['bench']        NaN   \n",
       "4            292.0  POINT (52.4453161 13.6273851)      ['bench']        NaN   \n",
       "\n",
       "   distance  \n",
       "0  0.000138  \n",
       "1  0.000551  \n",
       "2  0.000122  \n",
       "3  0.000110  \n",
       "4  0.000319  "
      ]
     },
     "execution_count": 2,
     "metadata": {},
     "output_type": "execute_result"
    }
   ],
   "source": [
    "import pandas as pd\n",
    "\n",
    "data = pd.read_csv (\"joint_data.csv\")   \n",
    "df = pd.DataFrame(data)\n",
    "\n",
    "#print(df)\n",
    "df.head(5)"
   ]
  },
  {
   "cell_type": "code",
   "execution_count": 3,
   "id": "9cae47ce",
   "metadata": {},
   "outputs": [],
   "source": [
    "# import pyodbc\n",
    "\n",
    "# conn = pyodbc.connect('Driver={SQL Server};'\n",
    "#                       'Server=RON\\SQLEXPRESS;'\n",
    "#                       'Database=test_database;'\n",
    "#                       'Trusted_Connection=yes;')\n",
    "# cursor = conn.cursor()"
   ]
  },
  {
   "cell_type": "code",
   "execution_count": 4,
   "id": "5291366b",
   "metadata": {},
   "outputs": [],
   "source": [
    "# SELECT @@ SERVERNAME"
   ]
  },
  {
   "cell_type": "code",
   "execution_count": 7,
   "id": "abaabd5a",
   "metadata": {},
   "outputs": [
    {
     "ename": "NameError",
     "evalue": "name 'routes' is not defined",
     "output_type": "error",
     "traceback": [
      "\u001b[0;31m---------------------------------------------------------------------------\u001b[0m",
      "\u001b[0;31mNameError\u001b[0m                                 Traceback (most recent call last)",
      "\u001b[0;32m/var/folders/r9/yr71vk1x07q8tkck__lk08t00000gn/T/ipykernel_96173/979222298.py\u001b[0m in \u001b[0;36m<module>\u001b[0;34m\u001b[0m\n\u001b[0;32m----> 1\u001b[0;31m \u001b[0mdf\u001b[0m\u001b[0;34m.\u001b[0m\u001b[0mto_sql\u001b[0m\u001b[0;34m(\u001b[0m\u001b[0mroutes\u001b[0m\u001b[0;34m.\u001b[0m\u001b[0mdb\u001b[0m\u001b[0;34m,\u001b[0m \u001b[0msqlite3\u001b[0m\u001b[0;34m.\u001b[0m\u001b[0mConnection\u001b[0m\u001b[0;34m)\u001b[0m\u001b[0;34m\u001b[0m\u001b[0;34m\u001b[0m\u001b[0m\n\u001b[0m",
      "\u001b[0;31mNameError\u001b[0m: name 'routes' is not defined"
     ]
    }
   ],
   "source": [
    "#df.to_sql(routes.db, sqlite3.Connection)"
   ]
  },
  {
   "cell_type": "code",
   "execution_count": 17,
   "id": "5a3938a3",
   "metadata": {},
   "outputs": [],
   "source": [
    "from sqlalchemy import create_engine\n",
    "engine = create_engine('sqlite://', echo=False)\n",
    "df.to_sql('routes.db', con=engine)"
   ]
  },
  {
   "cell_type": "code",
   "execution_count": 13,
   "id": "0186e11e",
   "metadata": {},
   "outputs": [],
   "source": [
    "routes_db = engine.execute(\"SELECT * FROM routes\").fetchall()"
   ]
  },
  {
   "cell_type": "code",
   "execution_count": 14,
   "id": "2cad79ba",
   "metadata": {},
   "outputs": [
    {
     "ename": "TypeError",
     "evalue": "to_sql() missing 1 required positional argument: 'con'",
     "output_type": "error",
     "traceback": [
      "\u001b[0;31m---------------------------------------------------------------------------\u001b[0m",
      "\u001b[0;31mTypeError\u001b[0m                                 Traceback (most recent call last)",
      "\u001b[0;32m/var/folders/r9/yr71vk1x07q8tkck__lk08t00000gn/T/ipykernel_96173/3554304301.py\u001b[0m in \u001b[0;36m<module>\u001b[0;34m\u001b[0m\n\u001b[0;32m----> 1\u001b[0;31m \u001b[0mdf\u001b[0m\u001b[0;34m.\u001b[0m\u001b[0mto_sql\u001b[0m\u001b[0;34m(\u001b[0m\u001b[0;34m'routes.db'\u001b[0m\u001b[0;34m)\u001b[0m\u001b[0;34m\u001b[0m\u001b[0;34m\u001b[0m\u001b[0m\n\u001b[0m",
      "\u001b[0;31mTypeError\u001b[0m: to_sql() missing 1 required positional argument: 'con'"
     ]
    }
   ],
   "source": []
  },
  {
   "cell_type": "code",
   "execution_count": null,
   "id": "be3e8b63",
   "metadata": {},
   "outputs": [],
   "source": []
  }
 ],
 "metadata": {
  "kernelspec": {
   "display_name": "Python 3 (ipykernel)",
   "language": "python",
   "name": "python3"
  },
  "language_info": {
   "codemirror_mode": {
    "name": "ipython",
    "version": 3
   },
   "file_extension": ".py",
   "mimetype": "text/x-python",
   "name": "python",
   "nbconvert_exporter": "python",
   "pygments_lexer": "ipython3",
   "version": "3.8.8"
  }
 },
 "nbformat": 4,
 "nbformat_minor": 5
}
