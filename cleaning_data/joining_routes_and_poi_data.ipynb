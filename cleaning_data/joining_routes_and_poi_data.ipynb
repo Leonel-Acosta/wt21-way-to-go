{
 "cells": [
  {
   "cell_type": "code",
   "execution_count": 1,
   "metadata": {},
   "outputs": [],
   "source": [
    "import pandas as pd\n",
    "import geopandas as gpd"
   ]
  },
  {
   "cell_type": "code",
   "execution_count": 2,
   "metadata": {},
   "outputs": [],
   "source": [
    "#reading in the routes and poi data\n",
    "routes = pd.read_csv('cleaned_routes_data/cleaned_all_routes_data_long.csv')\n",
    "poi = pd.read_csv('all_nodes_uncleaned.csv').iloc[0:1000, :] #using smaller sample of uncleaned data for experimentation"
   ]
  },
  {
   "cell_type": "code",
   "execution_count": 23,
   "metadata": {},
   "outputs": [],
   "source": [
    "#converting routes df into a GeoDataFrame\n",
    "gdf_routes = gpd.GeoDataFrame(routes, geometry=gpd.points_from_xy(routes.latitude, routes.longitude))\n",
    "gdf_routes.drop(['Unnamed: 0', 'lat_lgt'], axis=1, inplace=True)\n",
    "gdf_routes"
   ]
  },
  {
   "cell_type": "code",
   "execution_count": null,
   "metadata": {},
   "outputs": [],
   "source": [
    "#converting poi df into a GeoDataFrame\n",
    "gdf_poi = gpd.GeoDataFrame(poi, geometry=gpd.points_from_xy(poi.lat, poi.lon))\n",
    "gdf_poi"
   ]
  },
  {
   "cell_type": "markdown",
   "metadata": {},
   "source": [
    "GeoDataFrame-methods: \n",
    "crosses(other[, align]) Returns a Series of dtype('bool') with value True for each aligned geometry that cross other.\n",
    "distance(other[, align]) Returns a Series containing the distance to aligned other.\n",
    "intersection(other[, align]) Returns a GeoSeries of the intersection of points in each aligned geometry with other.\n",
    "intersects(other[, align]) Returns a Series of dtype('bool') with value True for each aligned geometry that intersects other.\n",
    "join(other[, on, how, lsuffix, rsuffix, sort]) Join columns of another DataFrame.\n",
    "mad([axis, skipna, level]) Return the mean absolute deviation of the values over the requested axis.\n",
    "sjoin(df, *args, **kwargs) Spatial join of two GeoDataFrames. \n",
    "symmetric_difference(other[, align]) Returns a GeoSeries of the symmetric difference of points in each aligned geometry with other.\n",
    "\n",
    "more: https://geopandas.org/en/stable/docs/reference/api/geopandas.GeoDataFrame.html"
   ]
  }
 ],
 "metadata": {
  "interpreter": {
   "hash": "564affda49c06e85285ae0fe8dd2119d248d31041ebeec06fe0c8f5f82f46c07"
  },
  "kernelspec": {
   "display_name": "Python 3.10.1 64-bit",
   "language": "python",
   "name": "python3"
  },
  "language_info": {
   "codemirror_mode": {
    "name": "ipython",
    "version": 3
   },
   "file_extension": ".py",
   "mimetype": "text/x-python",
   "name": "python",
   "nbconvert_exporter": "python",
   "pygments_lexer": "ipython3",
   "version": "3.10.1"
  },
  "orig_nbformat": 4
 },
 "nbformat": 4,
 "nbformat_minor": 2
}
