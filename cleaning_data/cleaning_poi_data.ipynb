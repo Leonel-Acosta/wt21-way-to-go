{
 "cells": [
  {
   "cell_type": "code",
   "execution_count": 1,
   "id": "83096895",
   "metadata": {},
   "outputs": [],
   "source": [
    "import pandas as pd\n",
    "import numpy as np\n",
    "import json\n",
    "import glob"
   ]
  },
  {
   "cell_type": "markdown",
   "id": "7ead8ed0",
   "metadata": {},
   "source": [
    "# Cleaning Points of Interest data"
   ]
  },
  {
   "cell_type": "markdown",
   "id": "5fc552ee",
   "metadata": {},
   "source": [
    "#### Read in uncleaned Points of Interest data and merge into a single pandas dataframe:"
   ]
  },
  {
   "cell_type": "code",
   "execution_count": 2,
   "id": "fec2ea4d",
   "metadata": {},
   "outputs": [],
   "source": [
    "#this code assumes you have the raw data in a folder titled 'poi_data', which should be in the same folder as this file\n",
    "all_node_files = glob.glob('poi_data/' + '/*node.json')\n",
    "\n",
    "li = []\n",
    "\n",
    "for filename in all_node_files:\n",
    "    data = json.load(open(filename))\n",
    "    df = pd.DataFrame(data[\"elements\"])\n",
    "    li.append(df)\n",
    "\n",
    "all_nodes = pd.concat(li, axis=0, ignore_index=True)"
   ]
  },
  {
   "cell_type": "markdown",
   "id": "904bf7c5",
   "metadata": {},
   "source": [
    "#### Exploring the data with basic cleaning methods (first pass):"
   ]
  },
  {
   "cell_type": "code",
   "execution_count": 4,
   "id": "b5e9e72c",
   "metadata": {
    "scrolled": true
   },
   "outputs": [
    {
     "data": {
      "text/html": [
       "<div>\n",
       "<style scoped>\n",
       "    .dataframe tbody tr th:only-of-type {\n",
       "        vertical-align: middle;\n",
       "    }\n",
       "\n",
       "    .dataframe tbody tr th {\n",
       "        vertical-align: top;\n",
       "    }\n",
       "\n",
       "    .dataframe thead th {\n",
       "        text-align: right;\n",
       "    }\n",
       "</style>\n",
       "<table border=\"1\" class=\"dataframe\">\n",
       "  <thead>\n",
       "    <tr style=\"text-align: right;\">\n",
       "      <th></th>\n",
       "      <th>type</th>\n",
       "      <th>id</th>\n",
       "      <th>lat</th>\n",
       "      <th>lon</th>\n",
       "      <th>tags</th>\n",
       "    </tr>\n",
       "  </thead>\n",
       "  <tbody>\n",
       "    <tr>\n",
       "      <th>0</th>\n",
       "      <td>node</td>\n",
       "      <td>78252154</td>\n",
       "      <td>52.523744</td>\n",
       "      <td>13.398627</td>\n",
       "      <td>{'addr:city': 'Berlin', 'addr:country': 'DE', ...</td>\n",
       "    </tr>\n",
       "    <tr>\n",
       "      <th>1</th>\n",
       "      <td>node</td>\n",
       "      <td>87036263</td>\n",
       "      <td>52.532985</td>\n",
       "      <td>13.384282</td>\n",
       "      <td>{'amenity': 'atm', 'brand': 'Sparda-Bank', 'br...</td>\n",
       "    </tr>\n",
       "    <tr>\n",
       "      <th>2</th>\n",
       "      <td>node</td>\n",
       "      <td>89275133</td>\n",
       "      <td>52.518025</td>\n",
       "      <td>13.406956</td>\n",
       "      <td>{'amenity': 'atm', 'name': 'Bankhaus August Le...</td>\n",
       "    </tr>\n",
       "    <tr>\n",
       "      <th>3</th>\n",
       "      <td>node</td>\n",
       "      <td>213106623</td>\n",
       "      <td>52.542170</td>\n",
       "      <td>13.441137</td>\n",
       "      <td>{'addr:country': 'DE', 'addr:housenumber': '87...</td>\n",
       "    </tr>\n",
       "    <tr>\n",
       "      <th>4</th>\n",
       "      <td>node</td>\n",
       "      <td>213113204</td>\n",
       "      <td>52.542750</td>\n",
       "      <td>13.392862</td>\n",
       "      <td>{'amenity': 'atm', 'name': 'Berliner Sparkasse...</td>\n",
       "    </tr>\n",
       "    <tr>\n",
       "      <th>...</th>\n",
       "      <td>...</td>\n",
       "      <td>...</td>\n",
       "      <td>...</td>\n",
       "      <td>...</td>\n",
       "      <td>...</td>\n",
       "    </tr>\n",
       "    <tr>\n",
       "      <th>213006</th>\n",
       "      <td>node</td>\n",
       "      <td>8931299152</td>\n",
       "      <td>52.487989</td>\n",
       "      <td>13.275393</td>\n",
       "      <td>{'tourism': 'viewpoint'}</td>\n",
       "    </tr>\n",
       "    <tr>\n",
       "      <th>213007</th>\n",
       "      <td>node</td>\n",
       "      <td>9024702237</td>\n",
       "      <td>52.506772</td>\n",
       "      <td>13.334563</td>\n",
       "      <td>{'tourism': 'viewpoint'}</td>\n",
       "    </tr>\n",
       "    <tr>\n",
       "      <th>213008</th>\n",
       "      <td>node</td>\n",
       "      <td>9026936271</td>\n",
       "      <td>52.401704</td>\n",
       "      <td>13.366960</td>\n",
       "      <td>{'name': 'Alpengipfel', 'tourism': 'viewpoint'}</td>\n",
       "    </tr>\n",
       "    <tr>\n",
       "      <th>213009</th>\n",
       "      <td>node</td>\n",
       "      <td>9038673666</td>\n",
       "      <td>52.482133</td>\n",
       "      <td>13.291911</td>\n",
       "      <td>{'direction': 'E', 'tourism': 'viewpoint'}</td>\n",
       "    </tr>\n",
       "    <tr>\n",
       "      <th>213010</th>\n",
       "      <td>node</td>\n",
       "      <td>9180246277</td>\n",
       "      <td>52.363764</td>\n",
       "      <td>13.533663</td>\n",
       "      <td>{'description': 'Plane spotting östlich der Sü...</td>\n",
       "    </tr>\n",
       "  </tbody>\n",
       "</table>\n",
       "<p>213011 rows × 5 columns</p>\n",
       "</div>"
      ],
      "text/plain": [
       "        type          id        lat        lon  \\\n",
       "0       node    78252154  52.523744  13.398627   \n",
       "1       node    87036263  52.532985  13.384282   \n",
       "2       node    89275133  52.518025  13.406956   \n",
       "3       node   213106623  52.542170  13.441137   \n",
       "4       node   213113204  52.542750  13.392862   \n",
       "...      ...         ...        ...        ...   \n",
       "213006  node  8931299152  52.487989  13.275393   \n",
       "213007  node  9024702237  52.506772  13.334563   \n",
       "213008  node  9026936271  52.401704  13.366960   \n",
       "213009  node  9038673666  52.482133  13.291911   \n",
       "213010  node  9180246277  52.363764  13.533663   \n",
       "\n",
       "                                                     tags  \n",
       "0       {'addr:city': 'Berlin', 'addr:country': 'DE', ...  \n",
       "1       {'amenity': 'atm', 'brand': 'Sparda-Bank', 'br...  \n",
       "2       {'amenity': 'atm', 'name': 'Bankhaus August Le...  \n",
       "3       {'addr:country': 'DE', 'addr:housenumber': '87...  \n",
       "4       {'amenity': 'atm', 'name': 'Berliner Sparkasse...  \n",
       "...                                                   ...  \n",
       "213006                           {'tourism': 'viewpoint'}  \n",
       "213007                           {'tourism': 'viewpoint'}  \n",
       "213008    {'name': 'Alpengipfel', 'tourism': 'viewpoint'}  \n",
       "213009         {'direction': 'E', 'tourism': 'viewpoint'}  \n",
       "213010  {'description': 'Plane spotting östlich der Sü...  \n",
       "\n",
       "[213011 rows x 5 columns]"
      ]
     },
     "execution_count": 4,
     "metadata": {},
     "output_type": "execute_result"
    }
   ],
   "source": [
    "all_nodes.dropna()"
   ]
  },
  {
   "cell_type": "markdown",
   "id": "ac9a3890",
   "metadata": {},
   "source": [
    "There are no missing values"
   ]
  },
  {
   "cell_type": "markdown",
   "id": "5dcc8a2c",
   "metadata": {},
   "source": [
    "## Extracting relevant features from 'tags' attribute"
   ]
  },
  {
   "cell_type": "markdown",
   "id": "f92fff29",
   "metadata": {},
   "source": [
    "#### Extracting the name of each POI and adding it as a separate feature "
   ]
  },
  {
   "cell_type": "code",
   "execution_count": 5,
   "id": "719020b8",
   "metadata": {
    "scrolled": true
   },
   "outputs": [
    {
     "data": {
      "text/html": [
       "<div>\n",
       "<style scoped>\n",
       "    .dataframe tbody tr th:only-of-type {\n",
       "        vertical-align: middle;\n",
       "    }\n",
       "\n",
       "    .dataframe tbody tr th {\n",
       "        vertical-align: top;\n",
       "    }\n",
       "\n",
       "    .dataframe thead th {\n",
       "        text-align: right;\n",
       "    }\n",
       "</style>\n",
       "<table border=\"1\" class=\"dataframe\">\n",
       "  <thead>\n",
       "    <tr style=\"text-align: right;\">\n",
       "      <th></th>\n",
       "      <th>type</th>\n",
       "      <th>id</th>\n",
       "      <th>lat</th>\n",
       "      <th>lon</th>\n",
       "      <th>tags</th>\n",
       "      <th>name</th>\n",
       "    </tr>\n",
       "  </thead>\n",
       "  <tbody>\n",
       "    <tr>\n",
       "      <th>0</th>\n",
       "      <td>node</td>\n",
       "      <td>78252154</td>\n",
       "      <td>52.523744</td>\n",
       "      <td>13.398627</td>\n",
       "      <td>{'addr:city': 'Berlin', 'addr:country': 'DE', ...</td>\n",
       "      <td>Bank für Sozialwirtschaft</td>\n",
       "    </tr>\n",
       "    <tr>\n",
       "      <th>1</th>\n",
       "      <td>node</td>\n",
       "      <td>87036263</td>\n",
       "      <td>52.532985</td>\n",
       "      <td>13.384282</td>\n",
       "      <td>{'amenity': 'atm', 'brand': 'Sparda-Bank', 'br...</td>\n",
       "      <td>Sparda-Bank</td>\n",
       "    </tr>\n",
       "    <tr>\n",
       "      <th>2</th>\n",
       "      <td>node</td>\n",
       "      <td>89275133</td>\n",
       "      <td>52.518025</td>\n",
       "      <td>13.406956</td>\n",
       "      <td>{'amenity': 'atm', 'name': 'Bankhaus August Le...</td>\n",
       "      <td>Bankhaus August Lenz</td>\n",
       "    </tr>\n",
       "    <tr>\n",
       "      <th>3</th>\n",
       "      <td>node</td>\n",
       "      <td>213106623</td>\n",
       "      <td>52.542170</td>\n",
       "      <td>13.441137</td>\n",
       "      <td>{'addr:country': 'DE', 'addr:housenumber': '87...</td>\n",
       "      <td>NaN</td>\n",
       "    </tr>\n",
       "    <tr>\n",
       "      <th>4</th>\n",
       "      <td>node</td>\n",
       "      <td>213113204</td>\n",
       "      <td>52.542750</td>\n",
       "      <td>13.392862</td>\n",
       "      <td>{'amenity': 'atm', 'name': 'Berliner Sparkasse...</td>\n",
       "      <td>Berliner Sparkasse</td>\n",
       "    </tr>\n",
       "    <tr>\n",
       "      <th>...</th>\n",
       "      <td>...</td>\n",
       "      <td>...</td>\n",
       "      <td>...</td>\n",
       "      <td>...</td>\n",
       "      <td>...</td>\n",
       "      <td>...</td>\n",
       "    </tr>\n",
       "    <tr>\n",
       "      <th>213006</th>\n",
       "      <td>node</td>\n",
       "      <td>8931299152</td>\n",
       "      <td>52.487989</td>\n",
       "      <td>13.275393</td>\n",
       "      <td>{'tourism': 'viewpoint'}</td>\n",
       "      <td>NaN</td>\n",
       "    </tr>\n",
       "    <tr>\n",
       "      <th>213007</th>\n",
       "      <td>node</td>\n",
       "      <td>9024702237</td>\n",
       "      <td>52.506772</td>\n",
       "      <td>13.334563</td>\n",
       "      <td>{'tourism': 'viewpoint'}</td>\n",
       "      <td>NaN</td>\n",
       "    </tr>\n",
       "    <tr>\n",
       "      <th>213008</th>\n",
       "      <td>node</td>\n",
       "      <td>9026936271</td>\n",
       "      <td>52.401704</td>\n",
       "      <td>13.366960</td>\n",
       "      <td>{'name': 'Alpengipfel', 'tourism': 'viewpoint'}</td>\n",
       "      <td>Alpengipfel</td>\n",
       "    </tr>\n",
       "    <tr>\n",
       "      <th>213009</th>\n",
       "      <td>node</td>\n",
       "      <td>9038673666</td>\n",
       "      <td>52.482133</td>\n",
       "      <td>13.291911</td>\n",
       "      <td>{'direction': 'E', 'tourism': 'viewpoint'}</td>\n",
       "      <td>NaN</td>\n",
       "    </tr>\n",
       "    <tr>\n",
       "      <th>213010</th>\n",
       "      <td>node</td>\n",
       "      <td>9180246277</td>\n",
       "      <td>52.363764</td>\n",
       "      <td>13.533663</td>\n",
       "      <td>{'description': 'Plane spotting östlich der Sü...</td>\n",
       "      <td>NaN</td>\n",
       "    </tr>\n",
       "  </tbody>\n",
       "</table>\n",
       "<p>213011 rows × 6 columns</p>\n",
       "</div>"
      ],
      "text/plain": [
       "        type          id        lat        lon  \\\n",
       "0       node    78252154  52.523744  13.398627   \n",
       "1       node    87036263  52.532985  13.384282   \n",
       "2       node    89275133  52.518025  13.406956   \n",
       "3       node   213106623  52.542170  13.441137   \n",
       "4       node   213113204  52.542750  13.392862   \n",
       "...      ...         ...        ...        ...   \n",
       "213006  node  8931299152  52.487989  13.275393   \n",
       "213007  node  9024702237  52.506772  13.334563   \n",
       "213008  node  9026936271  52.401704  13.366960   \n",
       "213009  node  9038673666  52.482133  13.291911   \n",
       "213010  node  9180246277  52.363764  13.533663   \n",
       "\n",
       "                                                     tags  \\\n",
       "0       {'addr:city': 'Berlin', 'addr:country': 'DE', ...   \n",
       "1       {'amenity': 'atm', 'brand': 'Sparda-Bank', 'br...   \n",
       "2       {'amenity': 'atm', 'name': 'Bankhaus August Le...   \n",
       "3       {'addr:country': 'DE', 'addr:housenumber': '87...   \n",
       "4       {'amenity': 'atm', 'name': 'Berliner Sparkasse...   \n",
       "...                                                   ...   \n",
       "213006                           {'tourism': 'viewpoint'}   \n",
       "213007                           {'tourism': 'viewpoint'}   \n",
       "213008    {'name': 'Alpengipfel', 'tourism': 'viewpoint'}   \n",
       "213009         {'direction': 'E', 'tourism': 'viewpoint'}   \n",
       "213010  {'description': 'Plane spotting östlich der Sü...   \n",
       "\n",
       "                             name  \n",
       "0       Bank für Sozialwirtschaft  \n",
       "1                     Sparda-Bank  \n",
       "2            Bankhaus August Lenz  \n",
       "3                             NaN  \n",
       "4              Berliner Sparkasse  \n",
       "...                           ...  \n",
       "213006                        NaN  \n",
       "213007                        NaN  \n",
       "213008                Alpengipfel  \n",
       "213009                        NaN  \n",
       "213010                        NaN  \n",
       "\n",
       "[213011 rows x 6 columns]"
      ]
     },
     "execution_count": 5,
     "metadata": {},
     "output_type": "execute_result"
    }
   ],
   "source": [
    "# extracting the 'name' data and adding it to a new 'name' column \n",
    "for i, dict in enumerate(all_nodes.tags):\n",
    "    try:\n",
    "        all_nodes.loc[i, 'name'] = dict['name']\n",
    "    except:\n",
    "        pass\n",
    "\n",
    "all_nodes"
   ]
  },
  {
   "cell_type": "markdown",
   "id": "3a101e8c",
   "metadata": {},
   "source": [
    "### Extracting relevant categories"
   ]
  },
  {
   "cell_type": "code",
   "execution_count": 7,
   "id": "c60cb41e",
   "metadata": {},
   "outputs": [],
   "source": [
    "# dictionary of category key/value pairs that were scraped\n",
    "categories = {'amenity': ['atm',\n",
    "                          'bar',\n",
    "                          'bench',\n",
    "                          'cafe',\n",
    "                          'drinking_water',\n",
    "                          'ice_cream',\n",
    "                          'nightclub',\n",
    "                          'restaurant'\n",
    "                         ],\n",
    "              \n",
    "              'historic': 'yes',\n",
    "              'leisure': 'picnic_table',\n",
    "              'natural': 'tree',\n",
    "              'shop':'convenience',\n",
    "              'tourism': ['art_work',\n",
    "                          'attraction',\n",
    "                          'gallery',\n",
    "                          'museum',\n",
    "                          'viewpoint',\n",
    "                          ]\n",
    "              }\n"
   ]
  },
  {
   "cell_type": "code",
   "execution_count": null,
   "id": "3e254300",
   "metadata": {},
   "outputs": [],
   "source": [
    "# loop through every row in all_nodes.tags, keeping track of the index\n",
    "# within each row, loop through every key from categories variable\n",
    "# if the row contains a matching key\n",
    "# check the key value from the row against the key values from categories variable\n",
    "# if these check out\n",
    "# for the current row, add the value to a new column 'category'"
   ]
  },
  {
   "cell_type": "code",
   "execution_count": 32,
   "id": "6b3a1922",
   "metadata": {},
   "outputs": [],
   "source": [
    "for index, row in enumerate(all_nodes.tags):\n",
    "        for key in categories:\n",
    "            if key in row:\n",
    "                for value in categories[key]:\n",
    "                    if value in row[key]:\n",
    "                        all_nodes.loc[index, 'category'] = row[key]            "
   ]
  },
  {
   "cell_type": "markdown",
   "id": "1da85690",
   "metadata": {},
   "source": [
    "## Inspecting the data"
   ]
  },
  {
   "cell_type": "code",
   "execution_count": 22,
   "id": "5a4cf295",
   "metadata": {},
   "outputs": [],
   "source": [
    "pd.set_option(\"display.max_columns\", None)\n",
    "pd.set_option(\"display.max_rows\", 1000)"
   ]
  },
  {
   "cell_type": "code",
   "execution_count": 33,
   "id": "f454ee77",
   "metadata": {},
   "outputs": [
    {
     "data": {
      "text/plain": [
       "0               atm\n",
       "1               atm\n",
       "2               atm\n",
       "3               atm\n",
       "4               atm\n",
       "            ...    \n",
       "213006    viewpoint\n",
       "213007    viewpoint\n",
       "213008    viewpoint\n",
       "213009    viewpoint\n",
       "213010    viewpoint\n",
       "Name: category, Length: 213011, dtype: object"
      ]
     },
     "execution_count": 33,
     "metadata": {},
     "output_type": "execute_result"
    }
   ],
   "source": [
    "all_nodes.category"
   ]
  },
  {
   "cell_type": "code",
   "execution_count": 38,
   "id": "7020c530",
   "metadata": {},
   "outputs": [
    {
     "data": {
      "text/plain": [
       "type                                                     node\n",
       "id                                                 5322155730\n",
       "lat                                                 52.475372\n",
       "lon                                                 13.289718\n",
       "tags        {'leaf_cycle': 'deciduous', 'leaf_type': 'broa...\n",
       "name                                                      NaN\n",
       "category                                                 tree\n",
       "Name: 150000, dtype: object"
      ]
     },
     "execution_count": 38,
     "metadata": {},
     "output_type": "execute_result"
    }
   ],
   "source": [
    "all_nodes.loc[150000]"
   ]
  },
  {
   "cell_type": "code",
   "execution_count": 39,
   "id": "49e27f2a",
   "metadata": {},
   "outputs": [],
   "source": [
    "all_nodes.to_json('all_nodes_with_categories.json')"
   ]
  },
  {
   "cell_type": "code",
   "execution_count": 40,
   "id": "ffe6d475",
   "metadata": {},
   "outputs": [],
   "source": [
    "all_nodes.to_csv('all_nodes_with_categories.csv')"
   ]
  },
  {
   "cell_type": "code",
   "execution_count": null,
   "id": "466610e6",
   "metadata": {},
   "outputs": [],
   "source": []
  }
 ],
 "metadata": {
  "kernelspec": {
   "display_name": "Python 3 (ipykernel)",
   "language": "python",
   "name": "python3"
  },
  "language_info": {
   "codemirror_mode": {
    "name": "ipython",
    "version": 3
   },
   "file_extension": ".py",
   "mimetype": "text/x-python",
   "name": "python",
   "nbconvert_exporter": "python",
   "pygments_lexer": "ipython3",
   "version": "3.7.6"
  }
 },
 "nbformat": 4,
 "nbformat_minor": 5
}
