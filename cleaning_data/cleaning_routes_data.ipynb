{
  "cells": [
    {
      "cell_type": "code",
      "execution_count": 1,
      "metadata": {
        "colab": {
          "base_uri": "https://localhost:8080/"
        },
        "id": "awN5lWMNzDo6",
        "outputId": "519f87b6-618d-440c-f564-c31beffcb5e4"
      },
      "outputs": [],
      "source": [
        "import pandas as pd"
      ]
    },
    {
      "cell_type": "code",
      "execution_count": 6,
      "metadata": {},
      "outputs": [
        {
          "data": {
            "text/html": [
              "<div>\n",
              "<style scoped>\n",
              "    .dataframe tbody tr th:only-of-type {\n",
              "        vertical-align: middle;\n",
              "    }\n",
              "\n",
              "    .dataframe tbody tr th {\n",
              "        vertical-align: top;\n",
              "    }\n",
              "\n",
              "    .dataframe thead th {\n",
              "        text-align: right;\n",
              "    }\n",
              "</style>\n",
              "<table border=\"1\" class=\"dataframe\">\n",
              "  <thead>\n",
              "    <tr style=\"text-align: right;\">\n",
              "      <th></th>\n",
              "      <th>route_id</th>\n",
              "      <th>lat_lgt</th>\n",
              "      <th>latitude</th>\n",
              "      <th>longitude</th>\n",
              "    </tr>\n",
              "  </thead>\n",
              "  <tbody>\n",
              "    <tr>\n",
              "      <th>0</th>\n",
              "      <td>100324.gpx</td>\n",
              "      <td>('50.71662', '12.79072')</td>\n",
              "      <td>50.71662</td>\n",
              "      <td>12.79072</td>\n",
              "    </tr>\n",
              "    <tr>\n",
              "      <th>1</th>\n",
              "      <td>100324.gpx</td>\n",
              "      <td>('50.71665', '12.79075')</td>\n",
              "      <td>50.71665</td>\n",
              "      <td>12.79075</td>\n",
              "    </tr>\n",
              "    <tr>\n",
              "      <th>2</th>\n",
              "      <td>100324.gpx</td>\n",
              "      <td>('50.71654', '12.79175')</td>\n",
              "      <td>50.71654</td>\n",
              "      <td>12.79175</td>\n",
              "    </tr>\n",
              "    <tr>\n",
              "      <th>3</th>\n",
              "      <td>100324.gpx</td>\n",
              "      <td>('50.71649', '12.7922')</td>\n",
              "      <td>50.71649</td>\n",
              "      <td>12.79220</td>\n",
              "    </tr>\n",
              "    <tr>\n",
              "      <th>4</th>\n",
              "      <td>100324.gpx</td>\n",
              "      <td>('50.71629', '12.79315')</td>\n",
              "      <td>50.71629</td>\n",
              "      <td>12.79315</td>\n",
              "    </tr>\n",
              "  </tbody>\n",
              "</table>\n",
              "</div>"
            ],
            "text/plain": [
              "     route_id                   lat_lgt  latitude  longitude\n",
              "0  100324.gpx  ('50.71662', '12.79072')  50.71662   12.79072\n",
              "1  100324.gpx  ('50.71665', '12.79075')  50.71665   12.79075\n",
              "2  100324.gpx  ('50.71654', '12.79175')  50.71654   12.79175\n",
              "3  100324.gpx   ('50.71649', '12.7922')  50.71649   12.79220\n",
              "4  100324.gpx  ('50.71629', '12.79315')  50.71629   12.79315"
            ]
          },
          "execution_count": 6,
          "metadata": {},
          "output_type": "execute_result"
        }
      ],
      "source": [
        "#df = pd.read_csv(r'parsed_routes_data\\all_routes_data.csv') #real dataset\n",
        "df = pd.read_csv(r'parsed_routes_data\\first_bulk_of_routes_data.csv') # smaller sample dataset for testing\n",
        "df.drop('Unnamed: 1', axis=1, inplace=True)\n",
        "df.rename(columns={'Unnamed: 0': 'route_id'}, inplace=True)\n",
        "df.head()"
      ]
    }
  ],
  "metadata": {
    "colab": {
      "collapsed_sections": [],
      "name": "cleaning-routes-data.ipynb",
      "provenance": []
    },
    "kernelspec": {
      "display_name": "Python 3",
      "name": "python3"
    },
    "language_info": {
      "codemirror_mode": {
        "name": "ipython",
        "version": 3
      },
      "file_extension": ".py",
      "mimetype": "text/x-python",
      "name": "python",
      "nbconvert_exporter": "python",
      "pygments_lexer": "ipython3",
      "version": "3.10.1"
    }
  },
  "nbformat": 4,
  "nbformat_minor": 0
}
